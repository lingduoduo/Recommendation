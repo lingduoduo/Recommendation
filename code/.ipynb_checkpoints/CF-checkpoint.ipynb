{
 "cells": [
  {
   "cell_type": "code",
   "execution_count": 1,
   "id": "d8c2781c",
   "metadata": {},
   "outputs": [
    {
     "data": {
      "text/plain": [
       "array([[1.        , 0.70710678],\n",
       "       [0.70710678, 1.        ]])"
      ]
     },
     "execution_count": 1,
     "metadata": {},
     "output_type": "execute_result"
    }
   ],
   "source": [
    "from sklearn.metrics.pairwise import cosine_similarity\n",
    "\n",
    "i = [1, 0, 0, 0]\n",
    "j = [1, 0, 1, 0]\n",
    "cosine_similarity([i, j])"
   ]
  },
  {
   "cell_type": "code",
   "execution_count": 2,
   "id": "d05ba223",
   "metadata": {},
   "outputs": [
    {
     "data": {
      "text/plain": [
       "PearsonRResult(statistic=0.816496580927726, pvalue=0.18350341907227397)"
      ]
     },
     "execution_count": 2,
     "metadata": {},
     "output_type": "execute_result"
    }
   ],
   "source": [
    "from scipy.stats import pearsonr\n",
    "\n",
    "i = [1, 0, 0, 0]\n",
    "j = [1, 0.5, 0.5, 0]\n",
    "pearsonr(i, j)"
   ]
  },
  {
   "cell_type": "markdown",
   "id": "3399feab",
   "metadata": {},
   "source": [
    "### UserCF"
   ]
  },
  {
   "cell_type": "code",
   "execution_count": 16,
   "id": "87788a31",
   "metadata": {},
   "outputs": [],
   "source": [
    "import numpy as np\n",
    "import pandas as pd\n",
    "\n",
    "\n",
    "def loadData():\n",
    "    users = {'Alice': {'A': 5, 'B': 3, 'C': 4, 'D': 4},\n",
    "             'user1': {'A': 3, 'B': 1, 'C': 2, 'D': 3, 'E': 3},\n",
    "             'user2': {'A': 4, 'B': 3, 'C': 4, 'D': 3, 'E': 5},\n",
    "             'user3': {'A': 3, 'B': 3, 'C': 1, 'D': 5, 'E': 4},\n",
    "             'user4': {'A': 1, 'B': 5, 'C': 5, 'D': 2, 'E': 1}\n",
    "             }\n",
    "    return users\n",
    "\n",
    "user_data = loadData()\n",
    "\n",
    "similarity_matrix = pd.DataFrame(\n",
    "    np.identity(len(user_data)),\n",
    "    index=user_data.keys(),\n",
    "    columns=user_data.keys(),\n",
    ")\n",
    "\n",
    "# 遍历每条用户-物品评分数据\n",
    "for u1, items1 in user_data.items():\n",
    "    for u2, items2 in user_data.items():\n",
    "        if u1 == u2:\n",
    "            continue\n",
    "        vec1, vec2 = [], []\n",
    "        for item, rating1 in items1.items():\n",
    "            rating2 = items2.get(item, -1)\n",
    "            if rating2 == -1:\n",
    "                continue\n",
    "            vec1.append(rating1)\n",
    "            vec2.append(rating2)\n",
    "        # 计算不同用户之间的皮尔逊相关系数\n",
    "        similarity_matrix[u1][u2] = np.corrcoef(vec1, vec2)[0][1]"
   ]
  },
  {
   "cell_type": "code",
   "execution_count": 17,
   "id": "c8c9dc19",
   "metadata": {},
   "outputs": [
    {
     "data": {
      "text/html": [
       "<div>\n",
       "<style scoped>\n",
       "    .dataframe tbody tr th:only-of-type {\n",
       "        vertical-align: middle;\n",
       "    }\n",
       "\n",
       "    .dataframe tbody tr th {\n",
       "        vertical-align: top;\n",
       "    }\n",
       "\n",
       "    .dataframe thead th {\n",
       "        text-align: right;\n",
       "    }\n",
       "</style>\n",
       "<table border=\"1\" class=\"dataframe\">\n",
       "  <thead>\n",
       "    <tr style=\"text-align: right;\">\n",
       "      <th></th>\n",
       "      <th>Alice</th>\n",
       "      <th>user1</th>\n",
       "      <th>user2</th>\n",
       "      <th>user3</th>\n",
       "      <th>user4</th>\n",
       "    </tr>\n",
       "  </thead>\n",
       "  <tbody>\n",
       "    <tr>\n",
       "      <th>Alice</th>\n",
       "      <td>1.000000</td>\n",
       "      <td>0.852803</td>\n",
       "      <td>0.707107</td>\n",
       "      <td>0.000000</td>\n",
       "      <td>-0.792118</td>\n",
       "    </tr>\n",
       "    <tr>\n",
       "      <th>user1</th>\n",
       "      <td>0.852803</td>\n",
       "      <td>1.000000</td>\n",
       "      <td>0.467707</td>\n",
       "      <td>0.489956</td>\n",
       "      <td>-0.900149</td>\n",
       "    </tr>\n",
       "    <tr>\n",
       "      <th>user2</th>\n",
       "      <td>0.707107</td>\n",
       "      <td>0.467707</td>\n",
       "      <td>1.000000</td>\n",
       "      <td>-0.161165</td>\n",
       "      <td>-0.466569</td>\n",
       "    </tr>\n",
       "    <tr>\n",
       "      <th>user3</th>\n",
       "      <td>0.000000</td>\n",
       "      <td>0.489956</td>\n",
       "      <td>-0.161165</td>\n",
       "      <td>1.000000</td>\n",
       "      <td>-0.641503</td>\n",
       "    </tr>\n",
       "    <tr>\n",
       "      <th>user4</th>\n",
       "      <td>-0.792118</td>\n",
       "      <td>-0.900149</td>\n",
       "      <td>-0.466569</td>\n",
       "      <td>-0.641503</td>\n",
       "      <td>1.000000</td>\n",
       "    </tr>\n",
       "  </tbody>\n",
       "</table>\n",
       "</div>"
      ],
      "text/plain": [
       "          Alice     user1     user2     user3     user4\n",
       "Alice  1.000000  0.852803  0.707107  0.000000 -0.792118\n",
       "user1  0.852803  1.000000  0.467707  0.489956 -0.900149\n",
       "user2  0.707107  0.467707  1.000000 -0.161165 -0.466569\n",
       "user3  0.000000  0.489956 -0.161165  1.000000 -0.641503\n",
       "user4 -0.792118 -0.900149 -0.466569 -0.641503  1.000000"
      ]
     },
     "execution_count": 17,
     "metadata": {},
     "output_type": "execute_result"
    }
   ],
   "source": [
    "similarity_matrix"
   ]
  },
  {
   "cell_type": "code",
   "execution_count": 18,
   "id": "4ff4e19f",
   "metadata": {},
   "outputs": [
    {
     "name": "stdout",
     "output_type": "stream",
     "text": [
      "与用户Alice最相似的2个用户为：['user1', 'user2']\n"
     ]
    }
   ],
   "source": [
    "target_user = 'Alice'\n",
    "num = 2\n",
    "# 由于最相似的用户为自己，去除本身\n",
    "sim_users = similarity_matrix[target_user].sort_values(ascending=False)[1:num+1].index.tolist()\n",
    "print(f'与用户{target_user}最相似的{num}个用户为：{sim_users}')"
   ]
  },
  {
   "cell_type": "code",
   "execution_count": 19,
   "id": "9e8b145a",
   "metadata": {},
   "outputs": [
    {
     "name": "stdout",
     "output_type": "stream",
     "text": [
      "用户Alice对物品E的预测评分为：4.871979899370592\n"
     ]
    }
   ],
   "source": [
    "weighted_scores = 0.\n",
    "corr_values_sum = 0.\n",
    "\n",
    "target_item = 'E'\n",
    "# 基于皮尔逊相关系数预测用户评分\n",
    "for user in sim_users:\n",
    "    corr_value = similarity_matrix[target_user][user]\n",
    "    user_mean_rating = np.mean(list(user_data[user].values()))\n",
    "\n",
    "    weighted_scores += corr_value * (user_data[user][target_item] - user_mean_rating)\n",
    "    corr_values_sum += corr_value\n",
    "\n",
    "target_user_mean_rating = np.mean(list(user_data[target_user].values()))\n",
    "target_item_pred = target_user_mean_rating + weighted_scores / corr_values_sum\n",
    "print(f'用户{target_user}对物品{target_item}的预测评分为：{target_item_pred}')"
   ]
  },
  {
   "cell_type": "markdown",
   "id": "79d13f1f",
   "metadata": {},
   "source": [
    "### ItemCF"
   ]
  },
  {
   "cell_type": "code",
   "execution_count": 23,
   "id": "89cfa250",
   "metadata": {},
   "outputs": [],
   "source": [
    "def loadData():\n",
    "    items = {'A': {'Alice': 5.0, 'user1': 3.0, 'user2': 4.0, 'user3': 3.0, 'user4': 1.0},\n",
    "             'B': {'Alice': 3.0, 'user1': 1.0, 'user2': 3.0, 'user3': 3.0, 'user4': 5.0},\n",
    "             'C': {'Alice': 4.0, 'user1': 2.0, 'user2': 4.0, 'user3': 1.0, 'user4': 5.0},\n",
    "             'D': {'Alice': 4.0, 'user1': 3.0, 'user2': 3.0, 'user3': 5.0, 'user4': 2.0},\n",
    "             'E': {'user1': 3.0, 'user2': 5.0, 'user3': 4.0, 'user4': 1.0}\n",
    "             }\n",
    "    return items\n",
    "\n",
    "item_data = loadData()\n",
    "\n",
    "similarity_matrix = pd.DataFrame(\n",
    "    np.identity(len(item_data)),\n",
    "    index=item_data.keys(),\n",
    "    columns=item_data.keys(),\n",
    ")\n",
    "\n",
    "# 遍历每条物品-用户评分数据\n",
    "for i1, users1 in item_data.items():\n",
    "    for i2, users2 in item_data.items():\n",
    "        if i1 == i2:\n",
    "            continue\n",
    "        vec1, vec2 = [], []\n",
    "        for user, rating1 in users1.items():\n",
    "            rating2 = users2.get(user, -1)\n",
    "            if rating2 == -1:\n",
    "                continue\n",
    "            vec1.append(rating1)\n",
    "            vec2.append(rating2)\n",
    "        similarity_matrix[i1][i2] = np.corrcoef(vec1, vec2)[0][1]"
   ]
  },
  {
   "cell_type": "code",
   "execution_count": 24,
   "id": "6a0a4b6a",
   "metadata": {},
   "outputs": [
    {
     "data": {
      "text/html": [
       "<div>\n",
       "<style scoped>\n",
       "    .dataframe tbody tr th:only-of-type {\n",
       "        vertical-align: middle;\n",
       "    }\n",
       "\n",
       "    .dataframe tbody tr th {\n",
       "        vertical-align: top;\n",
       "    }\n",
       "\n",
       "    .dataframe thead th {\n",
       "        text-align: right;\n",
       "    }\n",
       "</style>\n",
       "<table border=\"1\" class=\"dataframe\">\n",
       "  <thead>\n",
       "    <tr style=\"text-align: right;\">\n",
       "      <th></th>\n",
       "      <th>A</th>\n",
       "      <th>B</th>\n",
       "      <th>C</th>\n",
       "      <th>D</th>\n",
       "      <th>E</th>\n",
       "    </tr>\n",
       "  </thead>\n",
       "  <tbody>\n",
       "    <tr>\n",
       "      <th>A</th>\n",
       "      <td>1.000000</td>\n",
       "      <td>-0.476731</td>\n",
       "      <td>-0.123091</td>\n",
       "      <td>0.532181</td>\n",
       "      <td>0.969458</td>\n",
       "    </tr>\n",
       "    <tr>\n",
       "      <th>B</th>\n",
       "      <td>-0.476731</td>\n",
       "      <td>1.000000</td>\n",
       "      <td>0.645497</td>\n",
       "      <td>-0.310087</td>\n",
       "      <td>-0.478091</td>\n",
       "    </tr>\n",
       "    <tr>\n",
       "      <th>C</th>\n",
       "      <td>-0.123091</td>\n",
       "      <td>0.645497</td>\n",
       "      <td>1.000000</td>\n",
       "      <td>-0.720577</td>\n",
       "      <td>-0.427618</td>\n",
       "    </tr>\n",
       "    <tr>\n",
       "      <th>D</th>\n",
       "      <td>0.532181</td>\n",
       "      <td>-0.310087</td>\n",
       "      <td>-0.720577</td>\n",
       "      <td>1.000000</td>\n",
       "      <td>0.581675</td>\n",
       "    </tr>\n",
       "    <tr>\n",
       "      <th>E</th>\n",
       "      <td>0.969458</td>\n",
       "      <td>-0.478091</td>\n",
       "      <td>-0.427618</td>\n",
       "      <td>0.581675</td>\n",
       "      <td>1.000000</td>\n",
       "    </tr>\n",
       "  </tbody>\n",
       "</table>\n",
       "</div>"
      ],
      "text/plain": [
       "          A         B         C         D         E\n",
       "A  1.000000 -0.476731 -0.123091  0.532181  0.969458\n",
       "B -0.476731  1.000000  0.645497 -0.310087 -0.478091\n",
       "C -0.123091  0.645497  1.000000 -0.720577 -0.427618\n",
       "D  0.532181 -0.310087 -0.720577  1.000000  0.581675\n",
       "E  0.969458 -0.478091 -0.427618  0.581675  1.000000"
      ]
     },
     "execution_count": 24,
     "metadata": {},
     "output_type": "execute_result"
    }
   ],
   "source": [
    "similarity_matrix"
   ]
  },
  {
   "cell_type": "code",
   "execution_count": 26,
   "id": "2ce7ea4e",
   "metadata": {},
   "outputs": [
    {
     "name": "stdout",
     "output_type": "stream",
     "text": [
      "与物品E最相似的2个物品为：['A', 'D']\n"
     ]
    }
   ],
   "source": [
    "target_user = 'Alice'\n",
    "target_item = 'E'\n",
    "num = 2\n",
    "\n",
    "sim_items = []\n",
    "sim_items_list = similarity_matrix[target_item].sort_values(ascending=False).index.tolist()\n",
    "for item in sim_items_list:\n",
    "    # 如果target_user对物品item评分过\n",
    "    if target_user in item_data[item]:\n",
    "        sim_items.append(item)\n",
    "    if len(sim_items) == num:\n",
    "        break\n",
    "print(f'与物品{target_item}最相似的{num}个物品为：{sim_items}')"
   ]
  },
  {
   "cell_type": "code",
   "execution_count": 27,
   "id": "751ef999",
   "metadata": {},
   "outputs": [
    {
     "name": "stdout",
     "output_type": "stream",
     "text": [
      "用户Alice对物品E的预测评分为：4.6\n"
     ]
    }
   ],
   "source": [
    "target_user_mean_rating = np.mean(list(item_data[target_item].values()))\n",
    "weighted_scores = 0.\n",
    "corr_values_sum = 0.\n",
    "\n",
    "target_item = 'E'\n",
    "for item in sim_items:\n",
    "    corr_value = similarity_matrix[target_item][item]\n",
    "    user_mean_rating = np.mean(list(item_data[item].values()))\n",
    "\n",
    "    weighted_scores += corr_value * (item_data[item][target_user] - user_mean_rating)\n",
    "    corr_values_sum += corr_value\n",
    "\n",
    "target_item_pred = target_user_mean_rating + weighted_scores / corr_values_sum\n",
    "print(f'用户{target_user}对物品{target_item}的预测评分为：{target_item_pred}')"
   ]
  },
  {
   "cell_type": "code",
   "execution_count": null,
   "id": "9fb9a530",
   "metadata": {},
   "outputs": [],
   "source": []
  }
 ],
 "metadata": {
  "kernelspec": {
   "display_name": "Python 3 (ipykernel)",
   "language": "python",
   "name": "python3"
  },
  "language_info": {
   "codemirror_mode": {
    "name": "ipython",
    "version": 3
   },
   "file_extension": ".py",
   "mimetype": "text/x-python",
   "name": "python",
   "nbconvert_exporter": "python",
   "pygments_lexer": "ipython3",
   "version": "3.10.11"
  }
 },
 "nbformat": 4,
 "nbformat_minor": 5
}
