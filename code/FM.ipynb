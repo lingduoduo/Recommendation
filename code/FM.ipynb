{
 "cells": [
  {
   "cell_type": "markdown",
   "id": "49740df9",
   "metadata": {},
   "source": [
    "### FM"
   ]
  },
  {
   "cell_type": "markdown",
   "id": "cb4e381b",
   "metadata": {},
   "source": [
    "$$\n",
    "\\hat{y}(\\mathbf{x}):=w_0+\\sum_{i=1}^n w_i x_i+\\sum_{i=1}^n \\sum_{j=i+1}^n\\left\\langle\\mathbf{v}_i, \\mathbf{v}_j\\right\\rangle x_i x_j\n",
    "$$"
   ]
  },
  {
   "cell_type": "markdown",
   "id": "5136ea40",
   "metadata": {},
   "source": [
    "$$\n",
    "\\begin{aligned}\n",
    "& \\frac{1}{2} \\sum_{f=1}^k\\left(\\left(\\sum_{i=1}^n v_{i, f} x_i\\right)^2-\\sum_{i=1}^n v_{i, f}^2 x_i^2\\right) \\\\\n",
    "= & \\frac{1}{2} \\sum_{f=1}^k\\left(\\left(\\sum_{u \\in U} v_{u, f} x_u+\\sum_{t \\in I} v_{t, f} x_t\\right)^2-\\sum_{u \\in U} v_{u, f}^2 x_u^2-\\sum_{t \\in I} v_{t, f}^2 x_t^2\\right) \\\\\n",
    "= & \\frac{1}{2} \\sum_{f=1}^k\\left(\\left(\\sum_{u \\in U} v_{u, f} x_u\\right)^2+\\left(\\sum_{t \\in I} v_{t, f} x_t\\right)^2+2 \\sum_{u \\in U} v_{u, f} x_u \\sum_{t \\in I} v_{t, f} x_t-\\sum_{u \\in U} v_{u, f}^2 x_u^2-\\sum_{t \\in I} v_{t, f}^2 x_t^2\\right)\n",
    "\\end{aligned}\n",
    "$$"
   ]
  },
  {
   "cell_type": "code",
   "execution_count": 4,
   "id": "51bf748d",
   "metadata": {},
   "outputs": [],
   "source": []
  },
  {
   "cell_type": "code",
   "execution_count": 5,
   "id": "6fb94df4",
   "metadata": {},
   "outputs": [],
   "source": []
  },
  {
   "cell_type": "code",
   "execution_count": 6,
   "id": "02d56ffe",
   "metadata": {},
   "outputs": [],
   "source": []
  },
  {
   "cell_type": "code",
   "execution_count": 7,
   "id": "89c6ad0f",
   "metadata": {},
   "outputs": [
    {
     "name": "stdout",
     "output_type": "stream",
     "text": [
      "E 3.6064362099820846\n"
     ]
    }
   ],
   "source": []
  },
  {
   "cell_type": "code",
   "execution_count": null,
   "id": "b5014daa",
   "metadata": {},
   "outputs": [],
   "source": []
  }
 ],
 "metadata": {
  "kernelspec": {
   "display_name": "Python 3 (ipykernel)",
   "language": "python",
   "name": "python3"
  },
  "language_info": {
   "codemirror_mode": {
    "name": "ipython",
    "version": 3
   },
   "file_extension": ".py",
   "mimetype": "text/x-python",
   "name": "python",
   "nbconvert_exporter": "python",
   "pygments_lexer": "ipython3",
   "version": "3.10.11"
  }
 },
 "nbformat": 4,
 "nbformat_minor": 5
}
