{
 "cells": [
  {
   "cell_type": "code",
   "execution_count": 1,
   "id": "d8c2781c",
   "metadata": {},
   "outputs": [
    {
     "data": {
      "text/plain": [
       "array([[1.        , 0.70710678],\n",
       "       [0.70710678, 1.        ]])"
      ]
     },
     "execution_count": 1,
     "metadata": {},
     "output_type": "execute_result"
    }
   ],
   "source": [
    "from sklearn.metrics.pairwise import cosine_similarity\n",
    "\n",
    "i = [1, 0, 0, 0]\n",
    "j = [1, 0, 1, 0]\n",
    "cosine_similarity([i, j])"
   ]
  },
  {
   "cell_type": "code",
   "execution_count": 2,
   "id": "d05ba223",
   "metadata": {},
   "outputs": [
    {
     "data": {
      "text/plain": [
       "PearsonRResult(statistic=0.816496580927726, pvalue=0.18350341907227397)"
      ]
     },
     "execution_count": 2,
     "metadata": {},
     "output_type": "execute_result"
    }
   ],
   "source": [
    "from scipy.stats import pearsonr\n",
    "\n",
    "i = [1, 0, 0, 0]\n",
    "j = [1, 0.5, 0.5, 0]\n",
    "pearsonr(i, j)"
   ]
  },
  {
   "cell_type": "markdown",
   "id": "3399feab",
   "metadata": {},
   "source": [
    "### UserCF"
   ]
  },
  {
   "cell_type": "code",
   "execution_count": 16,
   "id": "87788a31",
   "metadata": {},
   "outputs": [],
   "source": [
    "import numpy as np\n",
    "import pandas as pd\n",
    "\n",
    "\n",
    "def loadData():\n",
    "    users = {'Alice': {'A': 5, 'B': 3, 'C': 4, 'D': 4},\n",
    "             'user1': {'A': 3, 'B': 1, 'C': 2, 'D': 3, 'E': 3},\n",
    "             'user2': {'A': 4, 'B': 3, 'C': 4, 'D': 3, 'E': 5},\n",
    "             'user3': {'A': 3, 'B': 3, 'C': 1, 'D': 5, 'E': 4},\n",
    "             'user4': {'A': 1, 'B': 5, 'C': 5, 'D': 2, 'E': 1}\n",
    "             }\n",
    "    return users\n",
    "\n",
    "user_data = loadData()\n",
    "\n",
    "similarity_matrix = pd.DataFrame(\n",
    "    np.identity(len(user_data)),\n",
    "    index=user_data.keys(),\n",
    "    columns=user_data.keys(),\n",
    ")\n",
    "\n",
    "# 遍历每条用户-物品评分数据\n",
    "for u1, items1 in user_data.items():\n",
    "    for u2, items2 in user_data.items():\n",
    "        if u1 == u2:\n",
    "            continue\n",
    "        vec1, vec2 = [], []\n",
    "        for item, rating1 in items1.items():\n",
    "            rating2 = items2.get(item, -1)\n",
    "            if rating2 == -1:\n",
    "                continue\n",
    "            vec1.append(rating1)\n",
    "            vec2.append(rating2)\n",
    "        # 计算不同用户之间的皮尔逊相关系数\n",
    "        similarity_matrix[u1][u2] = np.corrcoef(vec1, vec2)[0][1]"
   ]
  },
  {
   "cell_type": "code",
   "execution_count": 17,
   "id": "c8c9dc19",
   "metadata": {},
   "outputs": [
    {
     "data": {
      "text/html": [
       "<div>\n",
       "<style scoped>\n",
       "    .dataframe tbody tr th:only-of-type {\n",
       "        vertical-align: middle;\n",
       "    }\n",
       "\n",
       "    .dataframe tbody tr th {\n",
       "        vertical-align: top;\n",
       "    }\n",
       "\n",
       "    .dataframe thead th {\n",
       "        text-align: right;\n",
       "    }\n",
       "</style>\n",
       "<table border=\"1\" class=\"dataframe\">\n",
       "  <thead>\n",
       "    <tr style=\"text-align: right;\">\n",
       "      <th></th>\n",
       "      <th>Alice</th>\n",
       "      <th>user1</th>\n",
       "      <th>user2</th>\n",
       "      <th>user3</th>\n",
       "      <th>user4</th>\n",
       "    </tr>\n",
       "  </thead>\n",
       "  <tbody>\n",
       "    <tr>\n",
       "      <th>Alice</th>\n",
       "      <td>1.000000</td>\n",
       "      <td>0.852803</td>\n",
       "      <td>0.707107</td>\n",
       "      <td>0.000000</td>\n",
       "      <td>-0.792118</td>\n",
       "    </tr>\n",
       "    <tr>\n",
       "      <th>user1</th>\n",
       "      <td>0.852803</td>\n",
       "      <td>1.000000</td>\n",
       "      <td>0.467707</td>\n",
       "      <td>0.489956</td>\n",
       "      <td>-0.900149</td>\n",
       "    </tr>\n",
       "    <tr>\n",
       "      <th>user2</th>\n",
       "      <td>0.707107</td>\n",
       "      <td>0.467707</td>\n",
       "      <td>1.000000</td>\n",
       "      <td>-0.161165</td>\n",
       "      <td>-0.466569</td>\n",
       "    </tr>\n",
       "    <tr>\n",
       "      <th>user3</th>\n",
       "      <td>0.000000</td>\n",
       "      <td>0.489956</td>\n",
       "      <td>-0.161165</td>\n",
       "      <td>1.000000</td>\n",
       "      <td>-0.641503</td>\n",
       "    </tr>\n",
       "    <tr>\n",
       "      <th>user4</th>\n",
       "      <td>-0.792118</td>\n",
       "      <td>-0.900149</td>\n",
       "      <td>-0.466569</td>\n",
       "      <td>-0.641503</td>\n",
       "      <td>1.000000</td>\n",
       "    </tr>\n",
       "  </tbody>\n",
       "</table>\n",
       "</div>"
      ],
      "text/plain": [
       "          Alice     user1     user2     user3     user4\n",
       "Alice  1.000000  0.852803  0.707107  0.000000 -0.792118\n",
       "user1  0.852803  1.000000  0.467707  0.489956 -0.900149\n",
       "user2  0.707107  0.467707  1.000000 -0.161165 -0.466569\n",
       "user3  0.000000  0.489956 -0.161165  1.000000 -0.641503\n",
       "user4 -0.792118 -0.900149 -0.466569 -0.641503  1.000000"
      ]
     },
     "execution_count": 17,
     "metadata": {},
     "output_type": "execute_result"
    }
   ],
   "source": [
    "similarity_matrix"
   ]
  },
  {
   "cell_type": "code",
   "execution_count": 18,
   "id": "4ff4e19f",
   "metadata": {},
   "outputs": [
    {
     "name": "stdout",
     "output_type": "stream",
     "text": [
      "与用户Alice最相似的2个用户为：['user1', 'user2']\n"
     ]
    }
   ],
   "source": [
    "target_user = 'Alice'\n",
    "num = 2\n",
    "# 由于最相似的用户为自己，去除本身\n",
    "sim_users = similarity_matrix[target_user].sort_values(ascending=False)[1:num+1].index.tolist()\n",
    "print(f'与用户{target_user}最相似的{num}个用户为：{sim_users}')"
   ]
  },
  {
   "cell_type": "code",
   "execution_count": 19,
   "id": "9e8b145a",
   "metadata": {},
   "outputs": [
    {
     "name": "stdout",
     "output_type": "stream",
     "text": [
      "用户Alice对物品E的预测评分为：4.871979899370592\n"
     ]
    }
   ],
   "source": [
    "weighted_scores = 0.\n",
    "corr_values_sum = 0.\n",
    "\n",
    "target_item = 'E'\n",
    "# 基于皮尔逊相关系数预测用户评分\n",
    "for user in sim_users:\n",
    "    corr_value = similarity_matrix[target_user][user]\n",
    "    user_mean_rating = np.mean(list(user_data[user].values()))\n",
    "\n",
    "    weighted_scores += corr_value * (user_data[user][target_item] - user_mean_rating)\n",
    "    corr_values_sum += corr_value\n",
    "\n",
    "target_user_mean_rating = np.mean(list(user_data[target_user].values()))\n",
    "target_item_pred = target_user_mean_rating + weighted_scores / corr_values_sum\n",
    "print(f'用户{target_user}对物品{target_item}的预测评分为：{target_item_pred}')"
   ]
  },
  {
   "cell_type": "markdown",
   "id": "79d13f1f",
   "metadata": {},
   "source": [
    "### ItemCF"
   ]
  },
  {
   "cell_type": "code",
   "execution_count": 12,
   "id": "4abc2403",
   "metadata": {},
   "outputs": [
    {
     "data": {
      "text/html": [
       "<div>\n",
       "<style scoped>\n",
       "    .dataframe tbody tr th:only-of-type {\n",
       "        vertical-align: middle;\n",
       "    }\n",
       "\n",
       "    .dataframe tbody tr th {\n",
       "        vertical-align: top;\n",
       "    }\n",
       "\n",
       "    .dataframe thead th {\n",
       "        text-align: right;\n",
       "    }\n",
       "</style>\n",
       "<table border=\"1\" class=\"dataframe\">\n",
       "  <thead>\n",
       "    <tr style=\"text-align: right;\">\n",
       "      <th></th>\n",
       "      <th>A</th>\n",
       "      <th>B</th>\n",
       "      <th>C</th>\n",
       "      <th>D</th>\n",
       "      <th>E</th>\n",
       "    </tr>\n",
       "  </thead>\n",
       "  <tbody>\n",
       "    <tr>\n",
       "      <th>Alice</th>\n",
       "      <td>5.0</td>\n",
       "      <td>3.0</td>\n",
       "      <td>4.0</td>\n",
       "      <td>4.0</td>\n",
       "      <td>NaN</td>\n",
       "    </tr>\n",
       "    <tr>\n",
       "      <th>user1</th>\n",
       "      <td>3.0</td>\n",
       "      <td>1.0</td>\n",
       "      <td>2.0</td>\n",
       "      <td>3.0</td>\n",
       "      <td>3.0</td>\n",
       "    </tr>\n",
       "    <tr>\n",
       "      <th>user2</th>\n",
       "      <td>4.0</td>\n",
       "      <td>3.0</td>\n",
       "      <td>4.0</td>\n",
       "      <td>3.0</td>\n",
       "      <td>5.0</td>\n",
       "    </tr>\n",
       "    <tr>\n",
       "      <th>user3</th>\n",
       "      <td>3.0</td>\n",
       "      <td>3.0</td>\n",
       "      <td>1.0</td>\n",
       "      <td>5.0</td>\n",
       "      <td>4.0</td>\n",
       "    </tr>\n",
       "    <tr>\n",
       "      <th>user4</th>\n",
       "      <td>1.0</td>\n",
       "      <td>5.0</td>\n",
       "      <td>5.0</td>\n",
       "      <td>2.0</td>\n",
       "      <td>1.0</td>\n",
       "    </tr>\n",
       "  </tbody>\n",
       "</table>\n",
       "</div>"
      ],
      "text/plain": [
       "         A    B    C    D    E\n",
       "Alice  5.0  3.0  4.0  4.0  NaN\n",
       "user1  3.0  1.0  2.0  3.0  3.0\n",
       "user2  4.0  3.0  4.0  3.0  5.0\n",
       "user3  3.0  3.0  1.0  5.0  4.0\n",
       "user4  1.0  5.0  5.0  2.0  1.0"
      ]
     },
     "execution_count": 12,
     "metadata": {},
     "output_type": "execute_result"
    }
   ],
   "source": [
    "def loadData():\n",
    "    items = {'A': {'Alice': 5.0, 'user1': 3.0, 'user2': 4.0, 'user3': 3.0, 'user4': 1.0},\n",
    "             'B': {'Alice': 3.0, 'user1': 1.0, 'user2': 3.0, 'user3': 3.0, 'user4': 5.0},\n",
    "             'C': {'Alice': 4.0, 'user1': 2.0, 'user2': 4.0, 'user3': 1.0, 'user4': 5.0},\n",
    "             'D': {'Alice': 4.0, 'user1': 3.0, 'user2': 3.0, 'user3': 5.0, 'user4': 2.0},\n",
    "             'E': {'user1': 3.0, 'user2': 5.0, 'user3': 4.0, 'user4': 1.0}\n",
    "             }\n",
    "    return items\n",
    "\n",
    "item_data = loadData()\n",
    "pd.DataFrame(item_data)"
   ]
  },
  {
   "cell_type": "code",
   "execution_count": 13,
   "id": "76001dbc",
   "metadata": {},
   "outputs": [
    {
     "data": {
      "text/html": [
       "<div>\n",
       "<style scoped>\n",
       "    .dataframe tbody tr th:only-of-type {\n",
       "        vertical-align: middle;\n",
       "    }\n",
       "\n",
       "    .dataframe tbody tr th {\n",
       "        vertical-align: top;\n",
       "    }\n",
       "\n",
       "    .dataframe thead th {\n",
       "        text-align: right;\n",
       "    }\n",
       "</style>\n",
       "<table border=\"1\" class=\"dataframe\">\n",
       "  <thead>\n",
       "    <tr style=\"text-align: right;\">\n",
       "      <th></th>\n",
       "      <th>A</th>\n",
       "      <th>B</th>\n",
       "      <th>C</th>\n",
       "      <th>D</th>\n",
       "      <th>E</th>\n",
       "    </tr>\n",
       "  </thead>\n",
       "  <tbody>\n",
       "    <tr>\n",
       "      <th>A</th>\n",
       "      <td>1.0</td>\n",
       "      <td>0.0</td>\n",
       "      <td>0.0</td>\n",
       "      <td>0.0</td>\n",
       "      <td>0.0</td>\n",
       "    </tr>\n",
       "    <tr>\n",
       "      <th>B</th>\n",
       "      <td>0.0</td>\n",
       "      <td>1.0</td>\n",
       "      <td>0.0</td>\n",
       "      <td>0.0</td>\n",
       "      <td>0.0</td>\n",
       "    </tr>\n",
       "    <tr>\n",
       "      <th>C</th>\n",
       "      <td>0.0</td>\n",
       "      <td>0.0</td>\n",
       "      <td>1.0</td>\n",
       "      <td>0.0</td>\n",
       "      <td>0.0</td>\n",
       "    </tr>\n",
       "    <tr>\n",
       "      <th>D</th>\n",
       "      <td>0.0</td>\n",
       "      <td>0.0</td>\n",
       "      <td>0.0</td>\n",
       "      <td>1.0</td>\n",
       "      <td>0.0</td>\n",
       "    </tr>\n",
       "    <tr>\n",
       "      <th>E</th>\n",
       "      <td>0.0</td>\n",
       "      <td>0.0</td>\n",
       "      <td>0.0</td>\n",
       "      <td>0.0</td>\n",
       "      <td>1.0</td>\n",
       "    </tr>\n",
       "  </tbody>\n",
       "</table>\n",
       "</div>"
      ],
      "text/plain": [
       "     A    B    C    D    E\n",
       "A  1.0  0.0  0.0  0.0  0.0\n",
       "B  0.0  1.0  0.0  0.0  0.0\n",
       "C  0.0  0.0  1.0  0.0  0.0\n",
       "D  0.0  0.0  0.0  1.0  0.0\n",
       "E  0.0  0.0  0.0  0.0  1.0"
      ]
     },
     "execution_count": 13,
     "metadata": {},
     "output_type": "execute_result"
    }
   ],
   "source": [
    "similarity_matrix = pd.DataFrame(\n",
    "    np.identity(len(item_data)),\n",
    "    index=item_data.keys(),\n",
    "    columns=item_data.keys(),\n",
    ")\n",
    "similarity_matrix"
   ]
  },
  {
   "cell_type": "code",
   "execution_count": 14,
   "id": "89cfa250",
   "metadata": {},
   "outputs": [],
   "source": [
    "# 遍历每条物品-用户评分数据\n",
    "for i1, users1 in item_data.items():\n",
    "    for i2, users2 in item_data.items():\n",
    "        if i1 == i2:\n",
    "            continue\n",
    "        vec1, vec2 = [], []\n",
    "        for user, rating1 in users1.items():\n",
    "            rating2 = users2.get(user, -1)\n",
    "            if rating2 == -1:\n",
    "                continue\n",
    "            vec1.append(rating1)\n",
    "            vec2.append(rating2)\n",
    "        similarity_matrix[i1][i2] = np.corrcoef(vec1, vec2)[0][1]"
   ]
  },
  {
   "cell_type": "code",
   "execution_count": 15,
   "id": "6a0a4b6a",
   "metadata": {},
   "outputs": [
    {
     "data": {
      "text/html": [
       "<div>\n",
       "<style scoped>\n",
       "    .dataframe tbody tr th:only-of-type {\n",
       "        vertical-align: middle;\n",
       "    }\n",
       "\n",
       "    .dataframe tbody tr th {\n",
       "        vertical-align: top;\n",
       "    }\n",
       "\n",
       "    .dataframe thead th {\n",
       "        text-align: right;\n",
       "    }\n",
       "</style>\n",
       "<table border=\"1\" class=\"dataframe\">\n",
       "  <thead>\n",
       "    <tr style=\"text-align: right;\">\n",
       "      <th></th>\n",
       "      <th>A</th>\n",
       "      <th>B</th>\n",
       "      <th>C</th>\n",
       "      <th>D</th>\n",
       "      <th>E</th>\n",
       "    </tr>\n",
       "  </thead>\n",
       "  <tbody>\n",
       "    <tr>\n",
       "      <th>A</th>\n",
       "      <td>1.000000</td>\n",
       "      <td>-0.476731</td>\n",
       "      <td>-0.123091</td>\n",
       "      <td>0.532181</td>\n",
       "      <td>0.969458</td>\n",
       "    </tr>\n",
       "    <tr>\n",
       "      <th>B</th>\n",
       "      <td>-0.476731</td>\n",
       "      <td>1.000000</td>\n",
       "      <td>0.645497</td>\n",
       "      <td>-0.310087</td>\n",
       "      <td>-0.478091</td>\n",
       "    </tr>\n",
       "    <tr>\n",
       "      <th>C</th>\n",
       "      <td>-0.123091</td>\n",
       "      <td>0.645497</td>\n",
       "      <td>1.000000</td>\n",
       "      <td>-0.720577</td>\n",
       "      <td>-0.427618</td>\n",
       "    </tr>\n",
       "    <tr>\n",
       "      <th>D</th>\n",
       "      <td>0.532181</td>\n",
       "      <td>-0.310087</td>\n",
       "      <td>-0.720577</td>\n",
       "      <td>1.000000</td>\n",
       "      <td>0.581675</td>\n",
       "    </tr>\n",
       "    <tr>\n",
       "      <th>E</th>\n",
       "      <td>0.969458</td>\n",
       "      <td>-0.478091</td>\n",
       "      <td>-0.427618</td>\n",
       "      <td>0.581675</td>\n",
       "      <td>1.000000</td>\n",
       "    </tr>\n",
       "  </tbody>\n",
       "</table>\n",
       "</div>"
      ],
      "text/plain": [
       "          A         B         C         D         E\n",
       "A  1.000000 -0.476731 -0.123091  0.532181  0.969458\n",
       "B -0.476731  1.000000  0.645497 -0.310087 -0.478091\n",
       "C -0.123091  0.645497  1.000000 -0.720577 -0.427618\n",
       "D  0.532181 -0.310087 -0.720577  1.000000  0.581675\n",
       "E  0.969458 -0.478091 -0.427618  0.581675  1.000000"
      ]
     },
     "execution_count": 15,
     "metadata": {},
     "output_type": "execute_result"
    }
   ],
   "source": [
    "similarity_matrix"
   ]
  },
  {
   "cell_type": "code",
   "execution_count": 16,
   "id": "2ce7ea4e",
   "metadata": {},
   "outputs": [
    {
     "name": "stdout",
     "output_type": "stream",
     "text": [
      "与物品E最相似的2个物品为：['A', 'D']\n"
     ]
    }
   ],
   "source": [
    "target_user = 'Alice'\n",
    "target_item = 'E'\n",
    "num = 2\n",
    "\n",
    "sim_items = []\n",
    "sim_items_list = similarity_matrix[target_item].sort_values(ascending=False).index.tolist()\n",
    "for item in sim_items_list:\n",
    "    # 如果target_user对物品item评分过\n",
    "    if target_user in item_data[item]:\n",
    "        sim_items.append(item)\n",
    "    if len(sim_items) == num:\n",
    "        break\n",
    "print(f'与物品{target_item}最相似的{num}个物品为：{sim_items}')"
   ]
  },
  {
   "cell_type": "code",
   "execution_count": 17,
   "id": "751ef999",
   "metadata": {},
   "outputs": [
    {
     "name": "stdout",
     "output_type": "stream",
     "text": [
      "用户Alice对物品E的预测评分为：4.6\n"
     ]
    }
   ],
   "source": [
    "target_user_mean_rating = np.mean(list(item_data[target_item].values()))\n",
    "weighted_scores = 0.\n",
    "corr_values_sum = 0.\n",
    "\n",
    "target_item = 'E'\n",
    "for item in sim_items:\n",
    "    corr_value = similarity_matrix[target_item][item]\n",
    "    user_mean_rating = np.mean(list(item_data[item].values()))\n",
    "\n",
    "    weighted_scores += corr_value * (item_data[item][target_user] - user_mean_rating)\n",
    "    corr_values_sum += corr_value\n",
    "\n",
    "target_item_pred = target_user_mean_rating + weighted_scores / corr_values_sum\n",
    "print(f'用户{target_user}对物品{target_item}的预测评分为：{target_item_pred}')"
   ]
  },
  {
   "cell_type": "markdown",
   "id": "1c794f3a",
   "metadata": {},
   "source": [
    "### Swing(Graph-based)"
   ]
  },
  {
   "cell_type": "code",
   "execution_count": 18,
   "id": "ba71e9d9",
   "metadata": {},
   "outputs": [],
   "source": [
    "import pandas as pd\n",
    "import numpy as np"
   ]
  },
  {
   "cell_type": "code",
   "execution_count": 35,
   "id": "14c89926",
   "metadata": {},
   "outputs": [],
   "source": [
    "def loadData():\n",
    "    items = {'A': {'Alice': 5.0, 'user1': 3.0, 'user2': 4.0, 'user3': 3.0, 'user4': 1.0},\n",
    "             'B': {'Alice': 3.0, 'user1': 1.0, 'user2': 3.0, 'user3': 3.0, 'user4': 5.0},\n",
    "             'C': {'Alice': 4.0, 'user1': 2.0, 'user2': 4.0, 'user3': 1.0, 'user4': 5.0},\n",
    "             'D': {'Alice': 4.0, 'user1': 3.0, 'user2': 3.0, 'user3': 5.0, 'user4': 2.0},\n",
    "             'E': {'user1': 3.0, 'user2': 5.0, 'user3': 4.0, 'user4': 1.0}\n",
    "             }\n",
    "    return items\n",
    "\n",
    "df = pd.DataFrame(loadData()).transpose()\n",
    "df = df.reset_index().melt(id_vars='index', value_name='rate').dropna()\n",
    "df.columns = ['itemid', 'userid', 'rate']"
   ]
  },
  {
   "cell_type": "code",
   "execution_count": 36,
   "id": "92edde9b",
   "metadata": {},
   "outputs": [
    {
     "data": {
      "text/html": [
       "<div>\n",
       "<style scoped>\n",
       "    .dataframe tbody tr th:only-of-type {\n",
       "        vertical-align: middle;\n",
       "    }\n",
       "\n",
       "    .dataframe tbody tr th {\n",
       "        vertical-align: top;\n",
       "    }\n",
       "\n",
       "    .dataframe thead th {\n",
       "        text-align: right;\n",
       "    }\n",
       "</style>\n",
       "<table border=\"1\" class=\"dataframe\">\n",
       "  <thead>\n",
       "    <tr style=\"text-align: right;\">\n",
       "      <th></th>\n",
       "      <th>itemid</th>\n",
       "      <th>userid</th>\n",
       "      <th>rate</th>\n",
       "    </tr>\n",
       "  </thead>\n",
       "  <tbody>\n",
       "    <tr>\n",
       "      <th>0</th>\n",
       "      <td>A</td>\n",
       "      <td>Alice</td>\n",
       "      <td>5.0</td>\n",
       "    </tr>\n",
       "    <tr>\n",
       "      <th>1</th>\n",
       "      <td>B</td>\n",
       "      <td>Alice</td>\n",
       "      <td>3.0</td>\n",
       "    </tr>\n",
       "    <tr>\n",
       "      <th>2</th>\n",
       "      <td>C</td>\n",
       "      <td>Alice</td>\n",
       "      <td>4.0</td>\n",
       "    </tr>\n",
       "    <tr>\n",
       "      <th>3</th>\n",
       "      <td>D</td>\n",
       "      <td>Alice</td>\n",
       "      <td>4.0</td>\n",
       "    </tr>\n",
       "    <tr>\n",
       "      <th>5</th>\n",
       "      <td>A</td>\n",
       "      <td>user1</td>\n",
       "      <td>3.0</td>\n",
       "    </tr>\n",
       "  </tbody>\n",
       "</table>\n",
       "</div>"
      ],
      "text/plain": [
       "  itemid userid  rate\n",
       "0      A  Alice   5.0\n",
       "1      B  Alice   3.0\n",
       "2      C  Alice   4.0\n",
       "3      D  Alice   4.0\n",
       "5      A  user1   3.0"
      ]
     },
     "execution_count": 36,
     "metadata": {},
     "output_type": "execute_result"
    }
   ],
   "source": [
    "df.head()"
   ]
  },
  {
   "cell_type": "code",
   "execution_count": 37,
   "id": "50f5de07",
   "metadata": {},
   "outputs": [],
   "source": [
    "def get_uitems_iusers(train):\n",
    "    u_items = dict()\n",
    "    i_users = dict()\n",
    "    for index, row in train.iterrows():#处理用户交互记录 \n",
    "        u_items.setdefault(row[\"userid\"], set())\n",
    "        i_users.setdefault(row[\"itemid\"], set())\n",
    "        u_items[row[\"userid\"]].add(row[\"itemid\"])#得到user交互过的所有item\n",
    "        i_users[row[\"itemid\"]].add(row[\"userid\"])#得到item交互过的所有user\n",
    "    print(\"使用的用户个数为：{}\".format(len(u_items)))\n",
    "    print(\"使用的item个数为：{}\".format(len(i_users)))\n",
    "    return u_items, i_users "
   ]
  },
  {
   "cell_type": "code",
   "execution_count": 38,
   "id": "4007b2fa",
   "metadata": {},
   "outputs": [
    {
     "name": "stdout",
     "output_type": "stream",
     "text": [
      "使用的用户个数为：5\n",
      "使用的item个数为：5\n"
     ]
    }
   ],
   "source": [
    "u_items, i_users = get_uitems_iusers(df)"
   ]
  },
  {
   "cell_type": "code",
   "execution_count": 46,
   "id": "b7c403f0",
   "metadata": {},
   "outputs": [],
   "source": [
    "from itertools import combinations\n",
    "\n",
    "def swing_model(u_items, i_users):\n",
    "#     print([i for i in i_users.values()][:5])\n",
    "#     print([i for i in u_items.values()][:5])\n",
    "    item_pairs = list(combinations(i_users.keys(), 2)) #全排列组合对\n",
    "    print(\"item pairs length：{}\".format(len(item_pairs)))\n",
    "    item_sim_dict = dict()\n",
    "    for (i, j) in item_pairs:\n",
    "        user_pairs = list(combinations(i_users[i] & i_users[j], 2)) #item_i和item_j对应的user取交集后全排列 得到user对\n",
    "        result = 0\n",
    "        for (u, v) in user_pairs:\n",
    "            result += 1 / (alpha + list(u_items[u] & u_items[v]).__len__()) #分数公式\n",
    "        if result != 0 :\n",
    "            item_sim_dict.setdefault(i, dict())\n",
    "            item_sim_dict[i][j] = format(result, '.6f')\n",
    "    return item_sim_dict"
   ]
  },
  {
   "cell_type": "code",
   "execution_count": 47,
   "id": "65dba39a",
   "metadata": {},
   "outputs": [
    {
     "name": "stdout",
     "output_type": "stream",
     "text": [
      "item pairs length：10\n"
     ]
    }
   ],
   "source": [
    "item_sim_dict = swing_model(u_items, i_users)"
   ]
  },
  {
   "cell_type": "code",
   "execution_count": 48,
   "id": "8419de55",
   "metadata": {},
   "outputs": [
    {
     "data": {
      "text/plain": [
       "{'A': {'B': '1.979798', 'C': '1.979798', 'D': '1.979798', 'E': '1.090909'},\n",
       " 'B': {'C': '1.979798', 'D': '1.979798', 'E': '1.090909'},\n",
       " 'C': {'D': '1.979798', 'E': '1.090909'},\n",
       " 'D': {'E': '1.090909'}}"
      ]
     },
     "execution_count": 48,
     "metadata": {},
     "output_type": "execute_result"
    }
   ],
   "source": [
    "item_sim_dict"
   ]
  },
  {
   "cell_type": "code",
   "execution_count": 50,
   "id": "4c2628c9",
   "metadata": {},
   "outputs": [
    {
     "name": "stdout",
     "output_type": "stream",
     "text": [
      "item_id: A\t{'B': '1.979798', 'C': '1.979798'}\n",
      "item_id: B\t{'C': '1.979798', 'D': '1.979798'}\n",
      "item_id: C\t{'D': '1.979798', 'E': '1.090909'}\n",
      "item_id: D\t{'E': '1.090909'}\n"
     ]
    }
   ],
   "source": [
    "alpha = 0.5\n",
    "top_k = 2\n",
    "new_item_sim_dict = dict()\n",
    "for item, sim_items in item_sim_dict.items():\n",
    "    new_item_sim_dict.setdefault(item, dict())\n",
    "    new_item_sim_dict[item] = dict(sorted(sim_items.items(), key = lambda k:k[1], reverse=True)[:top_k])#排序取出 top_k个相似的item\n",
    "    print(f'item_id: {item}\\t{new_item_sim_dict[item]}')"
   ]
  },
  {
   "cell_type": "markdown",
   "id": "27d38b99",
   "metadata": {},
   "source": [
    "### Matrix Factorization"
   ]
  },
  {
   "cell_type": "code",
   "execution_count": 1,
   "id": "e6d3c6bd",
   "metadata": {},
   "outputs": [],
   "source": [
    "import random\n",
    "import math"
   ]
  },
  {
   "cell_type": "markdown",
   "id": "7f0a1e98",
   "metadata": {},
   "source": [
    "在推荐系统中，评分预测除了与用户的兴趣偏好、物品的特征属性相关外，与其他的因素也相关。例如：\n",
    "\n",
    "例如，对于乐观的用户来说，它的评分行为普遍偏高，而对批判性用户来说，他的评分记录普遍偏低，即使他们对同一物品的评分相同，但是他们对该物品的喜好程度却并不一样。\n",
    "对物品来说也是类似的。以电影为例，受大众欢迎的电影得到的评分普遍偏高，而一些烂片的评分普遍偏低，这些因素都是独立于用户或产品的因素，和用户对产品的的喜好无关。\n",
    "因此在原来的基础上加了偏置项， 来消除用户和物品打分的偏差， 即预测公式如下：\n",
    "\n",
    "- μ： 该参数反映的是推荐模型整体的平均评分，一般使用所有样本评分的均值。\n",
    "- b_u：用户偏差系数。可以使用用户 u 给出的所有评分的均值， 也可以当做训练参数。\n",
    "这一项表示了用户的评分习惯中和物品没有关系的那种因素。 比如有些用户比较苛刻， 对什么东西要求很高， 那么他评分就会偏低， 而有些用户比较宽容， 对什么东西都觉得不错， 那么评分就偏高\n",
    "- b_i ：物品偏差系数。可以使用物品 i 收到的所有评分的均值， 也可以当做训练参数。\n",
    "这一项表示了物品接受的评分中和用户没有关系的因素。 比如有些物品本身质量就很高， 因此获得的评分相对比较高， 有的物品本身质量很差， 因此获得的评分相对较低。\n",
    "\n",
    "$$\n",
    "\\begin{aligned}\n",
    "\\min _{q^*, p^*} \\frac{1}{2} \\sum_{(u, i) \\in K} & \\left(r_{u i}-\\left(\\mu+b_u+b_i+q_i^T p_u\\right)\\right)^2 \\\\\n",
    "& +\\lambda\\left(\\left\\|p_u\\right\\|^2+\\left\\|q_i\\right\\|^2+b_u^2+b_i^2\\right)\n",
    "\\end{aligned}\n",
    "$$\n",
    "\n",
    "$$\n",
    "\\frac{\\partial}{\\partial b_{u}} S S E=-e_{u i}+\\lambda b_{u} \\\n",
    "$$\n"
   ]
  },
  {
   "cell_type": "code",
   "execution_count": 2,
   "id": "2c55b16c",
   "metadata": {},
   "outputs": [],
   "source": [
    "class BiasSVD():\n",
    "    def __init__(self, rating_data, F=5, alpha=0.1, lmbda=0.1, max_iter=100):\n",
    "        self.F = F          # 这个表示隐向量的维度\n",
    "        self.P = dict()     # 用户矩阵P  大小是[users_num, F]\n",
    "        self.Q = dict()     # 物品矩阵Q  大小是[item_nums, F]\n",
    "        self.bu = dict()    # 用户偏置系数\n",
    "        self.bi = dict()    # 物品偏置系数\n",
    "        self.mu = 0         # 全局偏置系数\n",
    "        self.alpha = alpha  # 学习率\n",
    "        self.lmbda = lmbda  # 正则项系数\n",
    "        self.max_iter = max_iter        # 最大迭代次数\n",
    "        self.rating_data = rating_data  # 评分矩阵\n",
    "\n",
    "        for user, items in self.rating_data.items():\n",
    "            # 初始化矩阵P和Q, 随机数需要和1/sqrt(F)成正比\n",
    "            self.P[user] = [random.random() / math.sqrt(self.F) for x in range(0, F)]\n",
    "            self.bu[user] = 0\n",
    "            for item, rating in items.items():\n",
    "                if item not in self.Q:\n",
    "                    self.Q[item] = [random.random() / math.sqrt(self.F) for x in range(0, F)]\n",
    "                    self.bi[item] = 0\n",
    "\n",
    "    # 采用随机梯度下降的方式训练模型参数\n",
    "    def train(self):\n",
    "        cnt, mu_sum = 0, 0\n",
    "        for user, items in self.rating_data.items():\n",
    "            for item, rui in items.items():\n",
    "                mu_sum, cnt = mu_sum + rui, cnt + 1\n",
    "        self.mu = mu_sum / cnt\n",
    "\n",
    "        for step in range(self.max_iter):\n",
    "            # 遍历所有的用户及历史交互物品\n",
    "            for user, items in self.rating_data.items():\n",
    "                # 遍历历史交互物品\n",
    "                for item, rui in items.items():\n",
    "                    rhat_ui = self.predict(user, item)  # 评分预测\n",
    "                    e_ui = rui - rhat_ui                  # 评分预测偏差\n",
    "\n",
    "                    # 参数更新\n",
    "                    self.bu[user] += self.alpha * (e_ui - self.lmbda * self.bu[user])\n",
    "                    self.bi[item] += self.alpha * (e_ui - self.lmbda * self.bi[item])\n",
    "                    for k in range(0, self.F):\n",
    "                        self.P[user][k] += self.alpha * (e_ui * self.Q[item][k] - self.lmbda * self.P[user][k])\n",
    "                        self.Q[item][k] += self.alpha * (e_ui * self.P[user][k] - self.lmbda * self.Q[item][k])\n",
    "            # 逐步降低学习率\n",
    "            self.alpha *= 0.1\n",
    "\n",
    "\n",
    "    # 评分预测\n",
    "    def predict(self, user, item):\n",
    "        return sum(self.P[user][f] * self.Q[item][f] for f in range(0, self.F)) + self.bu[user] + self.bi[item] + self.mu"
   ]
  },
  {
   "cell_type": "code",
   "execution_count": 3,
   "id": "1e99041c",
   "metadata": {},
   "outputs": [],
   "source": [
    "# 通过字典初始化训练样本，分别表示不同用户（1-5）对不同物品（A-E)的真实评分\n",
    "def loadData():\n",
    "    rating_data={1: {'A': 5, 'B': 3, 'C': 4, 'D': 4},\n",
    "           2: {'A': 3, 'B': 1, 'C': 2, 'D': 3, 'E': 3},\n",
    "           3: {'A': 4, 'B': 3, 'C': 4, 'D': 3, 'E': 5},\n",
    "           4: {'A': 3, 'B': 3, 'C': 1, 'D': 5, 'E': 4},\n",
    "           5: {'A': 1, 'B': 5, 'C': 5, 'D': 2, 'E': 1}\n",
    "          }\n",
    "    return rating_data"
   ]
  },
  {
   "cell_type": "code",
   "execution_count": 4,
   "id": "5d38d195",
   "metadata": {},
   "outputs": [],
   "source": [
    "# 加载数据\n",
    "rating_data = loadData()"
   ]
  },
  {
   "cell_type": "code",
   "execution_count": 5,
   "id": "f638c938",
   "metadata": {},
   "outputs": [],
   "source": [
    "# 建立模型\n",
    "basicsvd = BiasSVD(rating_data, F=10)"
   ]
  },
  {
   "cell_type": "code",
   "execution_count": 6,
   "id": "8d011da6",
   "metadata": {},
   "outputs": [],
   "source": [
    "# 参数训练\n",
    "basicsvd.train()"
   ]
  },
  {
   "cell_type": "code",
   "execution_count": 7,
   "id": "842fdc5f",
   "metadata": {},
   "outputs": [
    {
     "name": "stdout",
     "output_type": "stream",
     "text": [
      "E 3.702643720184852\n"
     ]
    }
   ],
   "source": [
    "# 预测用户1对物品E的评分\n",
    "for item in ['E']:\n",
    "    print(item, basicsvd.predict(1, item))"
   ]
  },
  {
   "cell_type": "code",
   "execution_count": null,
   "id": "d33f1d4e",
   "metadata": {},
   "outputs": [],
   "source": []
  }
 ],
 "metadata": {
  "kernelspec": {
   "display_name": "Python 3 (ipykernel)",
   "language": "python",
   "name": "python3"
  },
  "language_info": {
   "codemirror_mode": {
    "name": "ipython",
    "version": 3
   },
   "file_extension": ".py",
   "mimetype": "text/x-python",
   "name": "python",
   "nbconvert_exporter": "python",
   "pygments_lexer": "ipython3",
   "version": "3.10.11"
  }
 },
 "nbformat": 4,
 "nbformat_minor": 5
}
