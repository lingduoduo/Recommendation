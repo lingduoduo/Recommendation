{
 "cells": [
  {
   "cell_type": "markdown",
   "id": "cd625e86",
   "metadata": {},
   "source": [
    "## Import TFRS"
   ]
  },
  {
   "cell_type": "markdown",
   "id": "19556b0d",
   "metadata": {},
   "source": [
    "https://www.tensorflow.org/recommenders/examples/quickstart"
   ]
  },
  {
   "cell_type": "code",
   "execution_count": 1,
   "id": "b8b79f68",
   "metadata": {},
   "outputs": [],
   "source": [
    "from typing import Dict, Text\n",
    "\n",
    "import numpy as np\n",
    "import tensorflow as tf"
   ]
  },
  {
   "cell_type": "code",
   "execution_count": 2,
   "id": "2d72f2ae",
   "metadata": {},
   "outputs": [],
   "source": [
    "import tensorflow_datasets as tfds\n",
    "import tensorflow_recommenders as tfrs"
   ]
  },
  {
   "cell_type": "markdown",
   "id": "db275917",
   "metadata": {},
   "source": [
    "### Read the data"
   ]
  },
  {
   "cell_type": "code",
   "execution_count": 3,
   "id": "d5bc4aa0",
   "metadata": {},
   "outputs": [
    {
     "name": "stdout",
     "output_type": "stream",
     "text": [
      "WARNING:tensorflow:AutoGraph could not transform <function <lambda> at 0x7f92f4189ef0> and will run it as-is.\n",
      "Please report this to the TensorFlow team. When filing the bug, set the verbosity to 10 (on Linux, `export AUTOGRAPH_VERBOSITY=10`) and attach the full output.\n",
      "Cause: module 'gast' has no attribute 'Constant'\n",
      "To silence this warning, decorate the function with @tf.autograph.experimental.do_not_convert\n"
     ]
    },
    {
     "name": "stderr",
     "output_type": "stream",
     "text": [
      "2021-12-06 11:55:05.620317: I tensorflow/core/platform/cpu_feature_guard.cc:142] This TensorFlow binary is optimized with oneAPI Deep Neural Network Library (oneDNN) to use the following CPU instructions in performance-critical operations:  AVX2 FMA\n",
      "To enable them in other operations, rebuild TensorFlow with the appropriate compiler flags.\n",
      "WARNING:tensorflow:AutoGraph could not transform <function <lambda> at 0x7f92f4189ef0> and will run it as-is.\n",
      "Please report this to the TensorFlow team. When filing the bug, set the verbosity to 10 (on Linux, `export AUTOGRAPH_VERBOSITY=10`) and attach the full output.\n",
      "Cause: module 'gast' has no attribute 'Constant'\n",
      "To silence this warning, decorate the function with @tf.autograph.experimental.do_not_convert\n"
     ]
    },
    {
     "name": "stdout",
     "output_type": "stream",
     "text": [
      "WARNING: AutoGraph could not transform <function <lambda> at 0x7f92f4189ef0> and will run it as-is.\n",
      "Please report this to the TensorFlow team. When filing the bug, set the verbosity to 10 (on Linux, `export AUTOGRAPH_VERBOSITY=10`) and attach the full output.\n",
      "Cause: module 'gast' has no attribute 'Constant'\n",
      "To silence this warning, decorate the function with @tf.autograph.experimental.do_not_convert\n"
     ]
    },
    {
     "data": {
      "text/plain": [
       "<MapDataset shapes: {movie_title: (), user_id: ()}, types: {movie_title: tf.string, user_id: tf.string}>"
      ]
     },
     "execution_count": 3,
     "metadata": {},
     "output_type": "execute_result"
    }
   ],
   "source": [
    "# Ratings data. PrefetchDataset\n",
    "ratings = tfds.load('movielens/100k-ratings', split=\"train\") \n",
    "ratings = ratings.map(lambda x: {\n",
    "    \"movie_title\": x[\"movie_title\"],\n",
    "    \"user_id\": x[\"user_id\"]\n",
    "})"
   ]
  },
  {
   "cell_type": "code",
   "execution_count": 6,
   "id": "0229ca44",
   "metadata": {},
   "outputs": [
    {
     "name": "stdout",
     "output_type": "stream",
     "text": [
      "WARNING:tensorflow:AutoGraph could not transform <function <lambda> at 0x7f9323ac2ef0> and will run it as-is.\n",
      "Please report this to the TensorFlow team. When filing the bug, set the verbosity to 10 (on Linux, `export AUTOGRAPH_VERBOSITY=10`) and attach the full output.\n",
      "Cause: module 'gast' has no attribute 'Constant'\n",
      "To silence this warning, decorate the function with @tf.autograph.experimental.do_not_convert\n"
     ]
    },
    {
     "name": "stderr",
     "output_type": "stream",
     "text": [
      "WARNING:tensorflow:AutoGraph could not transform <function <lambda> at 0x7f9323ac2ef0> and will run it as-is.\n",
      "Please report this to the TensorFlow team. When filing the bug, set the verbosity to 10 (on Linux, `export AUTOGRAPH_VERBOSITY=10`) and attach the full output.\n",
      "Cause: module 'gast' has no attribute 'Constant'\n",
      "To silence this warning, decorate the function with @tf.autograph.experimental.do_not_convert\n"
     ]
    },
    {
     "name": "stdout",
     "output_type": "stream",
     "text": [
      "WARNING: AutoGraph could not transform <function <lambda> at 0x7f9323ac2ef0> and will run it as-is.\n",
      "Please report this to the TensorFlow team. When filing the bug, set the verbosity to 10 (on Linux, `export AUTOGRAPH_VERBOSITY=10`) and attach the full output.\n",
      "Cause: module 'gast' has no attribute 'Constant'\n",
      "To silence this warning, decorate the function with @tf.autograph.experimental.do_not_convert\n"
     ]
    }
   ],
   "source": [
    "# Features of all the available movies.\n",
    "movies = tfds.load('movielens/100k-movies', split=\"train\")\n",
    "movies = movies.map(lambda x: x[\"movie_title\"])"
   ]
  },
  {
   "cell_type": "code",
   "execution_count": 7,
   "id": "ccdf2321",
   "metadata": {},
   "outputs": [
    {
     "data": {
      "text/plain": [
       "1682"
      ]
     },
     "execution_count": 7,
     "metadata": {},
     "output_type": "execute_result"
    }
   ],
   "source": [
    "len(movies)"
   ]
  },
  {
   "cell_type": "code",
   "execution_count": 10,
   "id": "d0159b3e",
   "metadata": {},
   "outputs": [],
   "source": [
    "# Build vocabularies to convert user ids and movie titles into integer indices for embedding layers:\n",
    "user_ids_vocabulary = tf.keras.layers.experimental.preprocessing.StringLookup(mask_token=None)\n",
    "user_ids_vocabulary.adapt(ratings.map(lambda x: x[\"user_id\"]))"
   ]
  },
  {
   "cell_type": "code",
   "execution_count": 11,
   "id": "5c25a014",
   "metadata": {},
   "outputs": [],
   "source": [
    "movie_titles_vocabulary = tf.keras.layers.experimental.preprocessing.StringLookup(mask_token=None)\n",
    "movie_titles_vocabulary.adapt(movies)"
   ]
  },
  {
   "cell_type": "markdown",
   "id": "92e40a04",
   "metadata": {},
   "source": [
    "### Define a model"
   ]
  },
  {
   "cell_type": "markdown",
   "id": "ef2154da",
   "metadata": {},
   "source": [
    "define a TFRS model by inheriting from tfrs.Model and implementing the compute_loss method:"
   ]
  },
  {
   "cell_type": "code",
   "execution_count": 12,
   "id": "f373a80c",
   "metadata": {},
   "outputs": [],
   "source": [
    "class MovieLensModel(tfrs.Model):\n",
    "  # We derive from a custom base class to help reduce boilerplate. Under the hood,\n",
    "  # these are still plain Keras Models.\n",
    "    def __init__(self, user_model: tf.keras.Model, movie_model: tf.keras.Model, task: tfrs.tasks.Retrieval):\n",
    "        super().__init__()\n",
    "\n",
    "        # Set up user and movie representations.\n",
    "        self.user_model = user_model\n",
    "        self.movie_model = movie_model\n",
    "\n",
    "        # Set up a retrieval task.\n",
    "        self.task = task\n",
    "    \n",
    "    def compute_loss(self, features: Dict[Text, tf.Tensor], training=False) -> tf.Tensor:\n",
    "        # Define how the loss is computed.\n",
    "\n",
    "        user_embeddings = self.user_model(features[\"user_id\"])\n",
    "        movie_embeddings = self.movie_model(features[\"movie_title\"])\n",
    "\n",
    "        return self.task(user_embeddings, movie_embeddings)"
   ]
  },
  {
   "cell_type": "markdown",
   "id": "32c8fad4",
   "metadata": {},
   "source": [
    "Define the two models and the retrieval task."
   ]
  },
  {
   "cell_type": "code",
   "execution_count": 15,
   "id": "b01fa857",
   "metadata": {},
   "outputs": [],
   "source": [
    "# Define user models.\n",
    "user_model = tf.keras.Sequential([\n",
    "    user_ids_vocabulary,\n",
    "    tf.keras.layers.Embedding(user_ids_vocabulary.vocabulary_size(), 64)\n",
    "])"
   ]
  },
  {
   "cell_type": "code",
   "execution_count": 17,
   "id": "24f250b3",
   "metadata": {},
   "outputs": [],
   "source": [
    "# Define movie models.\n",
    "movie_model = tf.keras.Sequential([\n",
    "    movie_titles_vocabulary,\n",
    "    tf.keras.layers.Embedding(movie_titles_vocabulary.vocabulary_size(), 64)\n",
    "])"
   ]
  },
  {
   "cell_type": "code",
   "execution_count": 19,
   "id": "1954141f",
   "metadata": {},
   "outputs": [],
   "source": [
    "# Define your objectives.\n",
    "task = tfrs.tasks.Retrieval(\n",
    "    metrics=tfrs.metrics.FactorizedTopK(movies.batch(128).map(movie_model))\n",
    ")"
   ]
  },
  {
   "cell_type": "markdown",
   "id": "6057f4e0",
   "metadata": {},
   "source": [
    "## Fit and evaluate it"
   ]
  },
  {
   "cell_type": "markdown",
   "id": "73c83b11",
   "metadata": {},
   "source": [
    "Create the model, train it, and generate predictions:"
   ]
  },
  {
   "cell_type": "code",
   "execution_count": 20,
   "id": "78998b7d",
   "metadata": {},
   "outputs": [],
   "source": [
    "# Create a retrieval model.\n",
    "model = MovieLensModel(user_model, movie_model, task)\n",
    "model.compile(optimizer=tf.keras.optimizers.Adagrad(0.5))"
   ]
  },
  {
   "cell_type": "code",
   "execution_count": 21,
   "id": "b85fa98f",
   "metadata": {},
   "outputs": [
    {
     "name": "stdout",
     "output_type": "stream",
     "text": [
      "Epoch 1/3\n",
      "25/25 [==============================] - 7s 228ms/step - factorized_top_k/top_1_categorical_accuracy: 6.0000e-05 - factorized_top_k/top_5_categorical_accuracy: 0.0014 - factorized_top_k/top_10_categorical_accuracy: 0.0047 - factorized_top_k/top_50_categorical_accuracy: 0.0447 - factorized_top_k/top_100_categorical_accuracy: 0.1019 - loss: 33067.1424 - regularization_loss: 0.0000e+00 - total_loss: 33067.1424\n",
      "Epoch 2/3\n",
      "25/25 [==============================] - 6s 229ms/step - factorized_top_k/top_1_categorical_accuracy: 1.4000e-04 - factorized_top_k/top_5_categorical_accuracy: 0.0049 - factorized_top_k/top_10_categorical_accuracy: 0.0141 - factorized_top_k/top_50_categorical_accuracy: 0.1053 - factorized_top_k/top_100_categorical_accuracy: 0.2116 - loss: 31015.2791 - regularization_loss: 0.0000e+00 - total_loss: 31015.2791\n",
      "Epoch 3/3\n",
      "25/25 [==============================] - 6s 225ms/step - factorized_top_k/top_1_categorical_accuracy: 3.7000e-04 - factorized_top_k/top_5_categorical_accuracy: 0.0079 - factorized_top_k/top_10_categorical_accuracy: 0.0219 - factorized_top_k/top_50_categorical_accuracy: 0.1440 - factorized_top_k/top_100_categorical_accuracy: 0.2671 - loss: 30426.2260 - regularization_loss: 0.0000e+00 - total_loss: 30426.2260\n"
     ]
    },
    {
     "data": {
      "text/plain": [
       "<keras.callbacks.History at 0x7fdb306bc400>"
      ]
     },
     "execution_count": 21,
     "metadata": {},
     "output_type": "execute_result"
    }
   ],
   "source": [
    "# Train for 3 epochs.\n",
    "model.fit(ratings.batch(4096), epochs=3)"
   ]
  },
  {
   "cell_type": "code",
   "execution_count": 22,
   "id": "8d2cdbac",
   "metadata": {},
   "outputs": [
    {
     "data": {
      "text/plain": [
       "<tensorflow_recommenders.layers.factorized_top_k.BruteForce at 0x7fdb306c6340>"
      ]
     },
     "execution_count": 22,
     "metadata": {},
     "output_type": "execute_result"
    }
   ],
   "source": [
    "# Use brute-force search to set up retrieval using the trained representations.\n",
    "index = tfrs.layers.factorized_top_k.BruteForce(model.user_model)\n",
    "index.index_from_dataset(\n",
    "    movies.batch(100).map(lambda title: (title, model.movie_model(title))))"
   ]
  },
  {
   "cell_type": "code",
   "execution_count": 23,
   "id": "d5a1fbb7",
   "metadata": {},
   "outputs": [
    {
     "name": "stdout",
     "output_type": "stream",
     "text": [
      "Top 3 recommendations for user 42: [b'Rent-a-Kid (1995)' b'Just Cause (1995)'\n",
      " b'Land Before Time III: The Time of the Great Giving (1995) (V)']\n"
     ]
    }
   ],
   "source": [
    "# Get some recommendations.\n",
    "_, titles = index(np.array([\"42\"]))\n",
    "print(f\"Top 3 recommendations for user 42: {titles[0, :3]}\")"
   ]
  },
  {
   "cell_type": "code",
   "execution_count": 25,
   "id": "0000c930",
   "metadata": {},
   "outputs": [
    {
     "name": "stdout",
     "output_type": "stream",
     "text": [
      "Top 5 recommendations for user 0: [b'Swept from the Sea (1997)' b'Nightwatch (1997)' b'Nightwatch (1997)'\n",
      " b'Little Princess, The (1939)' b'Anna Karenina (1997)']\n",
      "\n",
      "\n",
      "Top 5 recommendations for user 1: [b'Brother Minister: The Assassination of Malcolm X (1994)'\n",
      " b'Doom Generation, The (1995)' b'Theodore Rex (1995)'\n",
      " b'Turbo: A Power Rangers Movie (1997)' b'Nadja (1994)']\n",
      "\n",
      "\n",
      "Top 5 recommendations for user 2: [b'3 Ninjas: High Noon At Mega Mountain (1998)' b'Promesse, La (1996)'\n",
      " b'Once Upon a Time... When We Were Colored (1995)'\n",
      " b'Shall We Dance? (1996)' b\"Antonia's Line (1995)\"]\n",
      "\n",
      "\n",
      "Top 5 recommendations for user 3: [b'Critical Care (1997)' b'Spice World (1997)'\n",
      " b'How to Be a Player (1997)' b'U Turn (1997)' b'Prophecy II, The (1998)']\n",
      "\n",
      "\n",
      "Top 5 recommendations for user 4: [b'Assignment, The (1997)' b'Incognito (1997)'\n",
      " b'Blues Brothers 2000 (1998)' b'Wonderland (1997)'\n",
      " b'Event Horizon (1997)']\n",
      "\n",
      "\n",
      "Top 5 recommendations for user 5: [b'Amityville: A New Generation (1993)'\n",
      " b'Amityville II: The Possession (1982)' b'Little Rascals, The (1994)'\n",
      " b'Jaws 3-D (1983)' b'Amityville Curse, The (1990)']\n",
      "\n",
      "\n",
      "Top 5 recommendations for user 6: [b'Some Like It Hot (1959)' b'East of Eden (1955)'\n",
      " b'Around the World in 80 Days (1956)' b'His Girl Friday (1940)'\n",
      " b'Philadelphia Story, The (1940)']\n",
      "\n",
      "\n",
      "Top 5 recommendations for user 7: [b'Fire on the Mountain (1996)' b'Audrey Rose (1977)'\n",
      " b'Inspector General, The (1949)' b\"Daniel Defoe's Robinson Crusoe (1996)\"\n",
      " b'Amityville II: The Possession (1982)']\n",
      "\n",
      "\n",
      "Top 5 recommendations for user 8: [b'Leave It to Beaver (1997)' b'Free Willy 3: The Rescue (1997)'\n",
      " b'Henry V (1989)' b'Big Blue, The (Grand bleu, Le) (1988)'\n",
      " b'Critical Care (1997)']\n",
      "\n",
      "\n",
      "Top 5 recommendations for user 9: [b'Shanghai Triad (Yao a yao yao dao waipo qiao) (1995)'\n",
      " b'Roman Holiday (1953)' b'Evil Dead II (1987)'\n",
      " b'Waiting for Guffman (1996)' b'Witness (1985)']\n",
      "\n",
      "\n",
      "Top 5 recommendations for user 10: [b'Wonderful, Horrible Life of Leni Riefenstahl, The (1993)'\n",
      " b'Kicking and Screaming (1995)' b'M (1931)' b'Persuasion (1995)'\n",
      " b'Wild Bunch, The (1969)']\n",
      "\n",
      "\n",
      "Top 5 recommendations for user 11: [b'Go Fish (1994)' b'Mary Reilly (1996)' b'Operation Dumbo Drop (1995)'\n",
      " b'Englishman Who Went Up a Hill, But Came Down a Mountain, The (1995)'\n",
      " b'Corrina, Corrina (1994)']\n",
      "\n",
      "\n",
      "Top 5 recommendations for user 12: [b'Platoon (1986)' b'Philadelphia (1993)' b\"Muriel's Wedding (1994)\"\n",
      " b'When a Man Loves a Woman (1994)' b'Walking and Talking (1996)']\n",
      "\n",
      "\n",
      "Top 5 recommendations for user 13: [b'Nosferatu a Venezia (1986)' b'Time Tracers (1995)' b'Power 98 (1995)'\n",
      " b'In the Line of Duty 2 (1987)' b'Nil By Mouth (1997)']\n",
      "\n",
      "\n",
      "Top 5 recommendations for user 14: [b'Two Bits (1995)' b'Raise the Red Lantern (1991)' b'Dead Man (1995)'\n",
      " b'Blue in the Face (1995)' b'Annie Hall (1977)']\n",
      "\n",
      "\n",
      "Top 5 recommendations for user 15: [b'Paradise Road (1997)'\n",
      " b'Flower of My Secret, The (Flor de mi secreto, La) (1995)'\n",
      " b'Cry, the Beloved Country (1995)' b'Funeral, The (1996)'\n",
      " b'Unforgettable (1996)']\n",
      "\n",
      "\n",
      "Top 5 recommendations for user 16: [b'Big Blue, The (Grand bleu, Le) (1988)' b'Andre (1994)'\n",
      " b'Kicking and Screaming (1995)' b'Desperado (1995)' b'Bad Boys (1995)']\n",
      "\n",
      "\n",
      "Top 5 recommendations for user 17: [b'Spitfire Grill, The (1996)' b'Big Night (1996)'\n",
      " b'Michael Collins (1996)' b'Leaving Las Vegas (1995)'\n",
      " b'Dead Man Walking (1995)']\n",
      "\n",
      "\n",
      "Top 5 recommendations for user 18: [b'Month by the Lake, A (1995)' b'Unstrung Heroes (1995)'\n",
      " b'Bitter Sugar (Azucar Amargo) (1996)' b'Love in the Afternoon (1957)'\n",
      " b'American in Paris, An (1951)']\n",
      "\n",
      "\n",
      "Top 5 recommendations for user 19: [b'American President, The (1995)' b'M*A*S*H (1970)'\n",
      " b'Adventures of Priscilla, Queen of the Desert, The (1994)'\n",
      " b'Groundhog Day (1993)' b'Stand by Me (1986)']\n",
      "\n",
      "\n",
      "Top 5 recommendations for user 20: [b'Island of Dr. Moreau, The (1996)' b'Space Jam (1996)'\n",
      " b'Sixth Man, The (1997)' b'Miracle on 34th Street (1994)'\n",
      " b'Independence Day (ID4) (1996)']\n",
      "\n",
      "\n",
      "Top 5 recommendations for user 21: [b'Amityville: A New Generation (1993)' b'Amityville: Dollhouse (1996)'\n",
      " b'Underworld (1997)' b'Children of the Corn: The Gathering (1996)'\n",
      " b'Solo (1996)']\n",
      "\n",
      "\n",
      "Top 5 recommendations for user 22: [b'Heavyweights (1994)' b'Baby-Sitters Club, The (1995)'\n",
      " b'That Darn Cat! (1997)' b'That Darn Cat! (1997)' b'Stupids, The (1996)']\n",
      "\n",
      "\n",
      "Top 5 recommendations for user 23: [b'Orlando (1993)' b'Rosencrantz and Guildenstern Are Dead (1990)'\n",
      " b\"Someone Else's America (1995)\" b'Wings of Desire (1987)'\n",
      " b'Secret of Roan Inish, The (1994)']\n",
      "\n",
      "\n",
      "Top 5 recommendations for user 24: [b'Waiting for Guffman (1996)' b'Jeffrey (1995)'\n",
      " b\"Someone Else's America (1995)\" b'Billy Madison (1995)'\n",
      " b\"William Shakespeare's Romeo and Juliet (1996)\"]\n",
      "\n",
      "\n",
      "Top 5 recommendations for user 25: [b'Grand Day Out, A (1992)' b'Secret of Roan Inish, The (1994)'\n",
      " b'Wallace & Gromit: The Best of Aardman Animation (1996)'\n",
      " b'Around the World in 80 Days (1956)' b'Wrong Trousers, The (1993)']\n",
      "\n",
      "\n",
      "Top 5 recommendations for user 26: [b'Anaconda (1997)' b'Trigger Effect, The (1996)' b'Twin Town (1997)'\n",
      " b'Donnie Brasco (1997)' b'Selena (1997)']\n",
      "\n",
      "\n",
      "Top 5 recommendations for user 27: [b'Trees Lounge (1996)' b\"Smilla's Sense of Snow (1997)\"\n",
      " b'Ghost and the Darkness, The (1996)' b'Blood & Wine (1997)'\n",
      " b'Last Supper, The (1995)']\n",
      "\n",
      "\n",
      "Top 5 recommendations for user 28: [b'In the Mouth of Madness (1995)' b'Body Snatchers (1993)'\n",
      " b'Body Snatchers (1993)' b'Star Trek V: The Final Frontier (1989)'\n",
      " b\"Wes Craven's New Nightmare (1994)\"]\n",
      "\n",
      "\n",
      "Top 5 recommendations for user 29: [b'Tie Me Up! Tie Me Down! (1990)' b'Grand Day Out, A (1992)'\n",
      " b'Ghost in the Shell (Kokaku kidotai) (1995)' b'Mouse Hunt (1997)'\n",
      " b'Warriors of Virtue (1997)']\n",
      "\n",
      "\n",
      "Top 5 recommendations for user 30: [b'Flubber (1997)' b'Mouse Hunt (1997)' b'Ill Gotten Gains (1997)'\n",
      " b'Anaconda (1997)' b'Rocket Man (1997)']\n",
      "\n",
      "\n",
      "Top 5 recommendations for user 31: [b'Thirty-Two Short Films About Glenn Gould (1993)' b'8 1/2 (1963)'\n",
      " b'Die xue shuang xiong (Killer, The) (1989)'\n",
      " b'Blue Angel, The (Blaue Engel, Der) (1930)' b'Thin Man, The (1934)']\n",
      "\n",
      "\n",
      "Top 5 recommendations for user 32: [b'Fierce Creatures (1997)' b'Donnie Brasco (1997)' b'Con Air (1997)'\n",
      " b'Rock, The (1996)' b'Willy Wonka and the Chocolate Factory (1971)']\n",
      "\n",
      "\n",
      "Top 5 recommendations for user 33: [b'Peacemaker, The (1997)' b'Sphere (1998)' b'Desperate Measures (1998)'\n",
      " b'Desperate Measures (1998)' b\"Devil's Advocate, The (1997)\"]\n",
      "\n",
      "\n",
      "Top 5 recommendations for user 34: [b'Mrs. Dalloway (1997)' b'Lay of the Land, The (1997)'\n",
      " b'Assignment, The (1997)' b'Anna Karenina (1997)'\n",
      " b'Desperate Measures (1998)']\n",
      "\n",
      "\n",
      "Top 5 recommendations for user 35: [b'Kull the Conqueror (1997)' b'Kull the Conqueror (1997)'\n",
      " b'Peacemaker, The (1997)' b'Lay of the Land, The (1997)'\n",
      " b'Jungle2Jungle (1997)']\n",
      "\n",
      "\n",
      "Top 5 recommendations for user 36: [b'Lay of the Land, The (1997)' b'Phantoms (1998)'\n",
      " b'Kicked in the Head (1997)' b'Bonheur, Le (1965)'\n",
      " b'Excess Baggage (1997)']\n",
      "\n",
      "\n",
      "Top 5 recommendations for user 37: [b'Shooter, The (1995)' b'Money Train (1995)' b'Demolition Man (1993)'\n",
      " b'Highlander III: The Sorcerer (1994)' b'It Takes Two (1995)']\n",
      "\n",
      "\n",
      "Top 5 recommendations for user 38: [b'Lassie (1994)' b'Children of the Corn: The Gathering (1996)'\n",
      " b'Free Willy 2: The Adventure Home (1995)' b'Black Beauty (1994)'\n",
      " b'Free Willy (1993)']\n",
      "\n",
      "\n",
      "Top 5 recommendations for user 39: [b'Spice World (1997)' b'Deconstructing Harry (1997)' b'Half Baked (1998)'\n",
      " b'Blues Brothers 2000 (1998)' b'Ice Storm, The (1997)']\n",
      "\n",
      "\n",
      "Top 5 recommendations for user 40: [b'Sweet Hereafter, The (1997)' b'House of Yes, The (1997)'\n",
      " b'Ice Storm, The (1997)' b'Ice Storm, The (1997)'\n",
      " b'Deconstructing Harry (1997)']\n",
      "\n",
      "\n",
      "Top 5 recommendations for user 41: [b\"Schindler's List (1993)\"\n",
      " b'Dr. Strangelove or: How I Learned to Stop Worrying and Love the Bomb (1963)'\n",
      " b'Princess Bride, The (1987)' b'Pulp Fiction (1994)'\n",
      " b'2001: A Space Odyssey (1968)']\n",
      "\n",
      "\n",
      "Top 5 recommendations for user 42: [b'Rent-a-Kid (1995)' b'Just Cause (1995)'\n",
      " b'Land Before Time III: The Time of the Great Giving (1995) (V)'\n",
      " b'House Arrest (1996)' b'Love in the Afternoon (1957)']\n",
      "\n",
      "\n",
      "Top 5 recommendations for user 43: [b'Affair to Remember, An (1957)' b'Mr. Wrong (1996)'\n",
      " b'Corrina, Corrina (1994)' b'Now and Then (1995)' b'Only You (1994)']\n",
      "\n",
      "\n",
      "Top 5 recommendations for user 44: [b'War, The (1994)' b'Star Trek: Generations (1994)'\n",
      " b'Sound of Music, The (1965)' b'Snow White and the Seven Dwarfs (1937)'\n",
      " b'Forbidden Planet (1956)']\n",
      "\n",
      "\n",
      "Top 5 recommendations for user 45: [b'Blue in the Face (1995)' b'Hunchback of Notre Dame, The (1996)'\n",
      " b'Birdcage, The (1996)' b'James and the Giant Peach (1996)'\n",
      " b'Stupids, The (1996)']\n",
      "\n",
      "\n",
      "Top 5 recommendations for user 46: [b'Mrs. Dalloway (1997)' b'Anastasia (1997)'\n",
      " b'Four Days in September (1997)' b'Legal Deceit (1997)'\n",
      " b'In the Company of Men (1997)']\n",
      "\n",
      "\n",
      "Top 5 recommendations for user 47: [b'Fast, Cheap & Out of Control (1997)' b'Career Girls (1997)'\n",
      " b'Ice Storm, The (1997)' b'Ice Storm, The (1997)'\n",
      " b'In the Company of Men (1997)']\n",
      "\n",
      "\n",
      "Top 5 recommendations for user 48: [b'Kull the Conqueror (1997)' b'Kull the Conqueror (1997)'\n",
      " b'Deceiver (1997)' b'Deceiver (1997)'\n",
      " b'Beautician and the Beast, The (1997)']\n",
      "\n",
      "\n",
      "Top 5 recommendations for user 49: [b'Man of No Importance, A (1994)' b'Celestial Clockwork (1994)'\n",
      " b'Female Perversions (1996)' b'Kicking and Screaming (1995)'\n",
      " b'When the Cats Away (Chacun cherche son chat) (1996)']\n",
      "\n",
      "\n"
     ]
    }
   ],
   "source": [
    "for i in range(50):\n",
    "    _, titles = index(np.array([str(i)]))\n",
    "    print(f\"Top 5 recommendations for user {i}: {titles[0, :5]}\")\n",
    "    print(\"\\n\")"
   ]
  },
  {
   "cell_type": "code",
   "execution_count": null,
   "id": "69e59095",
   "metadata": {},
   "outputs": [],
   "source": []
  }
 ],
 "metadata": {
  "kernelspec": {
   "display_name": "Python 3 (ipykernel)",
   "language": "python",
   "name": "python3"
  },
  "language_info": {
   "codemirror_mode": {
    "name": "ipython",
    "version": 3
   },
   "file_extension": ".py",
   "mimetype": "text/x-python",
   "name": "python",
   "nbconvert_exporter": "python",
   "pygments_lexer": "ipython3",
   "version": "3.7.7"
  }
 },
 "nbformat": 4,
 "nbformat_minor": 5
}
