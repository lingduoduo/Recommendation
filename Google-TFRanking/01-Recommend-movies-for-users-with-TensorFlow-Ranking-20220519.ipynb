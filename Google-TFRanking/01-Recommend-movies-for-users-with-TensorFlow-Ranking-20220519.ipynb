{
 "cells": [
  {
   "cell_type": "markdown",
   "metadata": {
    "id": "8f-reQ11gbLB"
   },
   "source": [
    "In this tutorial, we build a simple two tower ranking model using the [MovieLens 100K dataset](https://grouplens.org/datasets/movielens/100k/) with TF-Ranking. We can use this model to rank and recommend movies for a given user according to their predicted user ratings."
   ]
  },
  {
   "cell_type": "markdown",
   "metadata": {
    "id": "qA00wBE2Ntdm"
   },
   "source": [
    "## Setup\n",
    "\n",
    "Install and import the TF-Ranking library:"
   ]
  },
  {
   "cell_type": "code",
   "execution_count": 1,
   "metadata": {
    "id": "n3oYt3R6Nr9l"
   },
   "outputs": [],
   "source": [
    "from typing import Dict, Tuple\n",
    "import pprint\n",
    "\n",
    "import tensorflow as tf\n",
    "\n",
    "import tensorflow_datasets as tfds\n",
    "import tensorflow_ranking as tfr"
   ]
  },
  {
   "cell_type": "markdown",
   "metadata": {
    "id": "zCxQ1CZcO2wh"
   },
   "source": [
    "## Read the data"
   ]
  },
  {
   "cell_type": "markdown",
   "metadata": {
    "id": "A0sY6-Rtt_Co"
   },
   "source": [
    "Prepare to train a model by creating a ratings dataset and movies dataset. Use `user_id` as the query input feature, `movie_title` as the document input feature, and `user_rating` as the label to train the ranking model."
   ]
  },
  {
   "cell_type": "code",
   "execution_count": 2,
   "metadata": {
    "id": "M-mxBYjdO5m7"
   },
   "outputs": [
    {
     "name": "stderr",
     "output_type": "stream",
     "text": [
      "2022-07-05 13:52:00.035708: I tensorflow/core/platform/cpu_feature_guard.cc:151] This TensorFlow binary is optimized with oneAPI Deep Neural Network Library (oneDNN) to use the following CPU instructions in performance-critical operations:  AVX2 FMA\n",
      "To enable them in other operations, rebuild TensorFlow with the appropriate compiler flags.\n"
     ]
    }
   ],
   "source": [
    "%%capture --no-display\n",
    "# Ratings data.\n",
    "ratings = tfds.load('movielens/100k-ratings', split=\"train\")\n",
    "# Features of all the available movies.\n",
    "movies = tfds.load('movielens/100k-movies', split=\"train\")\n",
    "\n",
    "# Select the basic features.\n",
    "ratings = ratings.map(lambda x: {\n",
    "    \"movie_title\": x[\"movie_title\"],\n",
    "    \"user_id\": x[\"user_id\"],\n",
    "    \"user_rating\": x[\"user_rating\"]\n",
    "})"
   ]
  },
  {
   "cell_type": "code",
   "execution_count": 3,
   "metadata": {},
   "outputs": [
    {
     "data": {
      "text/plain": [
       "<MapDataset element_spec={'movie_title': TensorSpec(shape=(), dtype=tf.string, name=None), 'user_id': TensorSpec(shape=(), dtype=tf.string, name=None), 'user_rating': TensorSpec(shape=(), dtype=tf.float32, name=None)}>"
      ]
     },
     "execution_count": 3,
     "metadata": {},
     "output_type": "execute_result"
    }
   ],
   "source": [
    "ratings"
   ]
  },
  {
   "cell_type": "code",
   "execution_count": 4,
   "metadata": {},
   "outputs": [
    {
     "data": {
      "text/plain": [
       "<PrefetchDataset element_spec={'movie_genres': TensorSpec(shape=(None,), dtype=tf.int64, name=None), 'movie_id': TensorSpec(shape=(), dtype=tf.string, name=None), 'movie_title': TensorSpec(shape=(), dtype=tf.string, name=None)}>"
      ]
     },
     "execution_count": 4,
     "metadata": {},
     "output_type": "execute_result"
    }
   ],
   "source": [
    "movies"
   ]
  },
  {
   "cell_type": "markdown",
   "metadata": {
    "id": "5W0HSfmSNCWm"
   },
   "source": [
    "Build vocabularies to convert all user ids and all movie titles into integer indices for embedding layers:"
   ]
  },
  {
   "cell_type": "code",
   "execution_count": 5,
   "metadata": {},
   "outputs": [],
   "source": [
    "movies = movies.map(lambda x: x[\"movie_title\"])\n",
    "users = ratings.map(lambda x: x[\"user_id\"])"
   ]
  },
  {
   "cell_type": "code",
   "execution_count": 6,
   "metadata": {
    "id": "9I1VTEjHzpfX"
   },
   "outputs": [],
   "source": [
    "user_ids_vocabulary = tf.keras.layers.experimental.preprocessing.StringLookup(mask_token=None)\n",
    "user_ids_vocabulary.adapt(users.batch(1000))\n",
    "\n",
    "movie_titles_vocabulary = tf.keras.layers.experimental.preprocessing.StringLookup(mask_token=None)\n",
    "movie_titles_vocabulary.adapt(movies.batch(1000))"
   ]
  },
  {
   "cell_type": "markdown",
   "metadata": {
    "id": "zMsmoqWTOTKo"
   },
   "source": [
    "Group by `user_id` to form lists for ranking models:\n"
   ]
  },
  {
   "cell_type": "code",
   "execution_count": 7,
   "metadata": {
    "id": "lXY7kX7nOSwH"
   },
   "outputs": [],
   "source": [
    "key_func = lambda x: user_ids_vocabulary(x[\"user_id\"])\n",
    "reduce_func = lambda key, dataset: dataset.batch(100)\n",
    "ds_train = ratings.group_by_window(key_func=key_func, reduce_func=reduce_func, window_size=100)"
   ]
  },
  {
   "cell_type": "code",
   "execution_count": 8,
   "metadata": {
    "id": "57r87tdQlkcT"
   },
   "outputs": [
    {
     "name": "stdout",
     "output_type": "stream",
     "text": [
      "Shape of movie_title: (100,)\n",
      "Example values of movie_title: [b'Man Who Would Be King, The (1975)' b'Silence of the Lambs, The (1991)'\n",
      " b'Next Karate Kid, The (1994)' b'2001: A Space Odyssey (1968)'\n",
      " b'Usual Suspects, The (1995)' b'Critical Care (1997)'\n",
      " b'Annie Hall (1977)' b'Manhattan (1979)' b'Picture Bride (1995)'\n",
      " b'Jefferson in Paris (1995)' b'Baton Rouge (1988)'\n",
      " b'Pink Floyd - The Wall (1982)' b'Searching for Bobby Fischer (1993)'\n",
      " b'Vermont Is For Lovers (1992)' b'Nightmare on Elm Street, A (1984)'\n",
      " b'Raging Bull (1980)' b\"Nobody's Fool (1994)\"\n",
      " b'Star Trek: The Motion Picture (1979)' b'To Die For (1995)'\n",
      " b'When Harry Met Sally... (1989)' b'Graduate, The (1967)'\n",
      " b'Shawshank Redemption, The (1994)' b'Just Cause (1995)'\n",
      " b'Murder in the First (1995)' b'Tommy Boy (1995)'\n",
      " b'Miami Rhapsody (1995)' b'Star Trek: Generations (1994)'\n",
      " b'Circle of Friends (1995)' b'Last of the Mohicans, The (1992)'\n",
      " b'Return of Martin Guerre, The (Retour de Martin Guerre, Le) (1982)'\n",
      " b'Congo (1995)' b\"Widows' Peak (1994)\" b'Carrington (1995)'\n",
      " b'Robocop 3 (1993)' b'Diva (1981)' b'Outbreak (1995)'\n",
      " b'Flintstones, The (1994)' b'Stranger in the House (1997)'\n",
      " b'Killing Fields, The (1984)' b'Hungarian Fairy Tale, A (1987)'\n",
      " b'Last Time I Committed Suicide, The (1997)'\n",
      " b'Great Dictator, The (1940)' b'Clockwork Orange, A (1971)'\n",
      " b'To Wong Foo, Thanks for Everything! Julie Newmar (1995)'\n",
      " b'Treasure of the Sierra Madre, The (1948)' b'Somewhere in Time (1980)'\n",
      " b'Blink (1994)' b'Burnt By the Sun (1994)'\n",
      " b'Godfather: Part II, The (1974)' b'Die Hard 2 (1990)'\n",
      " b'Taxi Driver (1976)' b'Client, The (1994)'\n",
      " b'Magnificent Seven, The (1954)' b'Andre (1994)'\n",
      " b'Nina Takes a Lover (1994)' b'Quartier Mozart (1992)'\n",
      " b'To Have, or Not (1995)' b'Only You (1994)' b'Night on Earth (1991)'\n",
      " b'Ladybird Ladybird (1994)' b'Boxing Helena (1993)'\n",
      " b'Eat Drink Man Woman (1994)' b'Little Buddha (1993)'\n",
      " b'Marked for Death (1990)' b'Walking Dead, The (1995)'\n",
      " b'L.A. Confidential (1997)' b'Highlander (1986)'\n",
      " b'To Kill a Mockingbird (1962)' b'Four Weddings and a Funeral (1994)'\n",
      " b'Lassie (1994)' b'House of the Spirits, The (1993)' b'Casino (1995)'\n",
      " b'Duoluo tianshi (1995)' b'Aladdin and the King of Thieves (1996)'\n",
      " b'Go Fish (1994)' b'Tie Me Up! Tie Me Down! (1990)'\n",
      " b'Parent Trap, The (1961)' b'Nick of Time (1995)'\n",
      " b'Raiders of the Lost Ark (1981)' b'Houseguest (1994)'\n",
      " b'Much Ado About Nothing (1993)' b'Airheads (1994)'\n",
      " b'Swiss Family Robinson (1960)' b'Big Sleep, The (1946)'\n",
      " b'Get Shorty (1995)' b'True Romance (1993)' b'Major Payne (1994)'\n",
      " b'Cliffhanger (1993)' b'Wings of Desire (1987)'\n",
      " b'Awfully Big Adventure, An (1995)' b'Assassins (1995)'\n",
      " b'Pocahontas (1995)' b'Alien (1979)' b'Basketball Diaries, The (1995)'\n",
      " b\"City Slickers II: The Legend of Curly's Gold (1994)\" b'Alien 3 (1992)'\n",
      " b'Forrest Gump (1994)' b'Swan Princess, The (1994)'\n",
      " b'Alice in Wonderland (1951)' b'Amadeus (1984)']\n",
      "\n",
      "Shape of user_id: (100,)\n",
      "Example values of user_id: [b'405' b'405' b'405' b'405' b'405' b'405' b'405' b'405' b'405' b'405'\n",
      " b'405' b'405' b'405' b'405' b'405' b'405' b'405' b'405' b'405' b'405'\n",
      " b'405' b'405' b'405' b'405' b'405' b'405' b'405' b'405' b'405' b'405'\n",
      " b'405' b'405' b'405' b'405' b'405' b'405' b'405' b'405' b'405' b'405'\n",
      " b'405' b'405' b'405' b'405' b'405' b'405' b'405' b'405' b'405' b'405'\n",
      " b'405' b'405' b'405' b'405' b'405' b'405' b'405' b'405' b'405' b'405'\n",
      " b'405' b'405' b'405' b'405' b'405' b'405' b'405' b'405' b'405' b'405'\n",
      " b'405' b'405' b'405' b'405' b'405' b'405' b'405' b'405' b'405' b'405'\n",
      " b'405' b'405' b'405' b'405' b'405' b'405' b'405' b'405' b'405' b'405'\n",
      " b'405' b'405' b'405' b'405' b'405' b'405' b'405' b'405' b'405' b'405']\n",
      "\n",
      "Shape of user_rating: (100,)\n",
      "Example values of user_rating: [1. 4. 1. 5. 5. 1. 1. 3. 1. 1. 1. 4. 1. 1. 5. 5. 2. 1. 1. 2. 4. 5. 1. 5.\n",
      " 1. 1. 2. 1. 1. 1. 1. 2. 1. 1. 1. 2. 1. 1. 1. 1. 1. 1. 1. 2. 2. 1. 1. 1.\n",
      " 5. 2. 5. 5. 1. 1. 1. 1. 1. 1. 1. 1. 1. 1. 1. 1. 1. 4. 3. 5. 3. 1. 2. 2.\n",
      " 1. 1. 1. 1. 2. 1. 5. 5. 1. 1. 1. 1. 4. 1. 1. 1. 1. 3. 3. 1. 1. 1. 5. 1.\n",
      " 4. 1. 5. 4.]\n",
      "\n"
     ]
    }
   ],
   "source": [
    "for x in ds_train.take(1):\n",
    "\tfor key, value in x.items():\n",
    "\t\tprint(f\"Shape of {key}: {value.shape}\")\n",
    "\t\tprint(f\"Example values of {key}: {value.numpy()}\")\n",
    "\t\tprint()"
   ]
  },
  {
   "cell_type": "markdown",
   "metadata": {
    "id": "YcZJf2qxOeWU"
   },
   "source": [
    "Generate batched features and labels:"
   ]
  },
  {
   "cell_type": "code",
   "execution_count": 9,
   "metadata": {
    "id": "ctq2RTOqOfAo"
   },
   "outputs": [],
   "source": [
    "def _features_and_labels(\n",
    "\t\tx: Dict[str, tf.Tensor]) -> Tuple[Dict[str, tf.Tensor], tf.Tensor]:\n",
    "\tlabels = x.pop(\"user_rating\")\n",
    "\treturn x, labels\n",
    "\n",
    "\n",
    "ds_train = ds_train.map(_features_and_labels)\n",
    "ds_train = ds_train.apply(tf.data.experimental.dense_to_ragged_batch(batch_size = 32))"
   ]
  },
  {
   "cell_type": "markdown",
   "metadata": {
    "id": "RJUU3mv-_VdQ"
   },
   "source": [
    "The `user_id` and `movie_title` tensors generated in `ds_train` are of shape `[32, None]`, where the second dimension is 100 in most cases except for the batches when less than 100 items grouped in lists. A model working on ragged tensors is thus used."
   ]
  },
  {
   "cell_type": "code",
   "execution_count": 10,
   "metadata": {
    "id": "GTquqk1GkIfd"
   },
   "outputs": [
    {
     "name": "stdout",
     "output_type": "stream",
     "text": [
      "Shape of movie_title: (32, None)\n",
      "Example values of movie_title: [[b'Man Who Would Be King, The (1975)'\n",
      "  b'Silence of the Lambs, The (1991)' b'Next Karate Kid, The (1994)' ...\n",
      "  b'Swan Princess, The (1994)' b'Alice in Wonderland (1951)'\n",
      "  b'Amadeus (1984)']\n",
      " [b'Flower of My Secret, The (Flor de mi secreto, La) (1995)'\n",
      "  b'Little Princess, The (1939)' b'Time to Kill, A (1996)' ...\n",
      "  b'Caro Diario (Dear Diary) (1994)' b'Wings of the Dove, The (1997)'\n",
      "  b'Mrs. Doubtfire (1993)']\n",
      " [b'Kundun (1997)' b'Scream (1996)' b'Power 98 (1995)' ...\n",
      "  b\"Sophie's Choice (1982)\" b'Giant (1956)'\n",
      "  b'FairyTale: A True Story (1997)']\n",
      " ...\n",
      " [b'Assassins (1995)' b'Harlem (1993)' b'Rumble in the Bronx (1995)' ...\n",
      "  b'Sudden Death (1995)' b'Empire Strikes Back, The (1980)'\n",
      "  b'Monty Python and the Holy Grail (1974)']\n",
      " [b'Bob Roberts (1992)' b'Willy Wonka and the Chocolate Factory (1971)'\n",
      "  b'Hot Shots! Part Deux (1993)' ... b'Back to the Future (1985)'\n",
      "  b'Three Colors: Blue (1993)' b'Michael (1996)']\n",
      " [b'Little Odessa (1994)' b'Hotel de Love (1996)'\n",
      "  b'Fire Down Below (1997)' ... b'Ghost and the Darkness, The (1996)'\n",
      "  b\"Devil's Own, The (1997)\" b\"Schindler's List (1993)\"]]\n",
      "\n",
      "Shape of user_id: (32, None)\n",
      "Example values of user_id: [[b'405' b'405' b'405' ... b'405' b'405' b'405']\n",
      " [b'655' b'655' b'655' ... b'655' b'655' b'655']\n",
      " [b'13' b'13' b'13' ... b'13' b'13' b'13']\n",
      " ...\n",
      " [b'682' b'682' b'682' ... b'682' b'682' b'682']\n",
      " [b'916' b'916' b'916' ... b'916' b'916' b'916']\n",
      " [b'592' b'592' b'592' ... b'592' b'592' b'592']]\n",
      "\n",
      "Shape of label: (32, None)\n",
      "Example values of label: [[1. 4. 1. ... 1. 5. 4.]\n",
      " [3. 3. 3. ... 3. 3. 2.]\n",
      " [5. 1. 1. ... 3. 4. 3.]\n",
      " ...\n",
      " [3. 3. 4. ... 2. 5. 5.]\n",
      " [5. 3. 3. ... 3. 4. 3.]\n",
      " [2. 3. 1. ... 2. 1. 5.]]\n"
     ]
    }
   ],
   "source": [
    "for x, label in ds_train.take(1):\n",
    "\tfor key, value in x.items():\n",
    "\t\tprint(f\"Shape of {key}: {value.shape}\")\n",
    "\t\tprint(f\"Example values of {key}: {value.numpy()}\")\n",
    "\t\tprint()\n",
    "\tprint(f\"Shape of label: {label.shape}\")\n",
    "\tprint(f\"Example values of label: {label.numpy()}\")"
   ]
  },
  {
   "cell_type": "markdown",
   "metadata": {
    "id": "Lrch6rVBOB9Q"
   },
   "source": [
    "## Define a model\n",
    "\n",
    "Define a ranking model by inheriting from `tf.keras.Model` and implementing the `call` method:"
   ]
  },
  {
   "cell_type": "code",
   "execution_count": 11,
   "metadata": {
    "id": "e5dNbDZwOIHR"
   },
   "outputs": [],
   "source": [
    "class MovieLensRankingModel(tf.keras.Model):\n",
    "\n",
    "\tdef __init__(self, user_vocab, movie_vocab):\n",
    "\t\tsuper().__init__()\n",
    "\n",
    "\t\t# Set up user and movie vocabulary and embedding.\n",
    "\t\tself.user_vocab = user_vocab\n",
    "\t\tself.movie_vocab = movie_vocab\n",
    "\t\tself.user_embed = tf.keras.layers.Embedding(\n",
    "\t\t\tuser_vocab.vocabulary_size(), 64)\n",
    "\t\tself.movie_embed = tf.keras.layers.Embedding(\n",
    "\t\t\tmovie_vocab.vocabulary_size(), 64)\n",
    "\n",
    "\tdef call(self, features: Dict[str, tf.Tensor]) -> tf.Tensor:\n",
    "\t\t# Define how the ranking scores are computed: \n",
    "\t\t# Take the dot-product of the user embeddings with the movie embeddings.\n",
    "\n",
    "\t\tuser_embeddings = self.user_embed(self.user_vocab(features[\"user_id\"]))\n",
    "\t\tmovie_embeddings = self.movie_embed(\n",
    "\t\t\tself.movie_vocab(features[\"movie_title\"])\n",
    "\t\t)\n",
    "\n",
    "\t\treturn tf.reduce_sum(user_embeddings * movie_embeddings, axis = 2)"
   ]
  },
  {
   "cell_type": "markdown",
   "metadata": {
    "id": "BMV0HpzmJGWk"
   },
   "source": [
    "Create the model, and then compile it with ranking `tfr.keras.losses` and `tfr.keras.metrics`, which are the core of the TF-Ranking package. \n",
    "\n",
    "This example uses a ranking-specific **softmax loss**, which is a listwise loss introduced to promote all relevant items in the ranking list with better chances on top of the irrelevant ones. In contrast to the softmax loss in the multi-class classification problem, where only one class is positive and the rest are negative, the TF-Ranking library supports multiple relevant documents in a query list and non-binary relevance labels.\n",
    "\n",
    "For ranking metrics, this example uses in specific **Normalized Discounted Cumulative Gain (NDCG)** and **Mean Reciprocal Rank (MRR)**, which calculate the user utility of a ranked query list with position discounts. For more details about ranking metrics, review evaluation measures [offline metrics](https://en.wikipedia.org/wiki/Evaluation_measures_(information_retrieval)#Offline_metrics)."
   ]
  },
  {
   "cell_type": "code",
   "execution_count": 12,
   "metadata": {
    "id": "H2tQDhqkOKf1"
   },
   "outputs": [],
   "source": [
    "# Create the ranking model, trained with a ranking loss and evaluated with\n",
    "# ranking metrics.\n",
    "model = MovieLensRankingModel(user_ids_vocabulary, movie_titles_vocabulary)\n",
    "optimizer = tf.keras.optimizers.Adagrad(0.5)\n",
    "loss = tfr.keras.losses.get(\n",
    "\tloss = tfr.keras.losses.RankingLossKey.SOFTMAX_LOSS, ragged = True\n",
    ")\n",
    "eval_metrics = [\n",
    "\ttfr.keras.metrics.get(key = \"ndcg\", name = \"metric/ndcg\", ragged = True),\n",
    "\ttfr.keras.metrics.get(key = \"mrr\", name = \"metric/mrr\", ragged = True)\n",
    "]\n",
    "model.compile(optimizer = optimizer, loss = loss, metrics = eval_metrics)"
   ]
  },
  {
   "cell_type": "markdown",
   "metadata": {
    "id": "NeBnBFMfVLzP"
   },
   "source": [
    "## Train and evaluate the model\n",
    "\n",
    "Train the model with `model.fit`."
   ]
  },
  {
   "cell_type": "code",
   "execution_count": 13,
   "metadata": {
    "id": "bzGm7WqSVNyP"
   },
   "outputs": [
    {
     "name": "stdout",
     "output_type": "stream",
     "text": [
      "Epoch 1/3\n"
     ]
    },
    {
     "name": "stderr",
     "output_type": "stream",
     "text": [
      "/Users/lhuang/opt/miniconda3/envs/tensorflow2.8/lib/python3.8/site-packages/tensorflow/python/framework/indexed_slices.py:444: UserWarning: Converting sparse IndexedSlices(IndexedSlices(indices=Tensor(\"gradient_tape/RaggedToTensor_2/boolean_mask_1/GatherV2:0\", shape=(None,), dtype=int32), values=Tensor(\"gradient_tape/RaggedToTensor_2/boolean_mask/GatherV2:0\", shape=(None,), dtype=float32), dense_shape=Tensor(\"gradient_tape/RaggedToTensor_2/Shape:0\", shape=(1,), dtype=int32))) to a dense Tensor of unknown shape. This may consume a large amount of memory.\n",
      "  warnings.warn(\n",
      "/Users/lhuang/opt/miniconda3/envs/tensorflow2.8/lib/python3.8/site-packages/tensorflow/python/framework/indexed_slices.py:444: UserWarning: Converting sparse IndexedSlices(IndexedSlices(indices=Tensor(\"gradient_tape/movie_lens_ranking_model/RaggedTile/Reshape_3:0\", shape=(None,), dtype=int64), values=Tensor(\"gradient_tape/movie_lens_ranking_model/RaggedTile/Reshape_2:0\", shape=(None, 64), dtype=float32), dense_shape=Tensor(\"gradient_tape/movie_lens_ranking_model/RaggedTile/Cast:0\", shape=(2,), dtype=int32))) to a dense Tensor of unknown shape. This may consume a large amount of memory.\n",
      "  warnings.warn(\n",
      "/Users/lhuang/opt/miniconda3/envs/tensorflow2.8/lib/python3.8/site-packages/tensorflow/python/framework/indexed_slices.py:444: UserWarning: Converting sparse IndexedSlices(IndexedSlices(indices=Tensor(\"gradient_tape/movie_lens_ranking_model/RaggedTile_1/Reshape_3:0\", shape=(None,), dtype=int64), values=Tensor(\"gradient_tape/movie_lens_ranking_model/RaggedTile_1/Reshape_2:0\", shape=(None, 64), dtype=float32), dense_shape=Tensor(\"gradient_tape/movie_lens_ranking_model/RaggedTile_1/Cast:0\", shape=(2,), dtype=int32))) to a dense Tensor of unknown shape. This may consume a large amount of memory.\n",
      "  warnings.warn(\n"
     ]
    },
    {
     "name": "stdout",
     "output_type": "stream",
     "text": [
      "48/48 [==============================] - 5s 42ms/step - loss: 998.7538 - metric/ndcg: 0.8244 - metric/mrr: 1.0000\n",
      "Epoch 2/3\n",
      "48/48 [==============================] - 2s 34ms/step - loss: 997.0905 - metric/ndcg: 0.9142 - metric/mrr: 1.0000\n",
      "Epoch 3/3\n",
      "48/48 [==============================] - 2s 34ms/step - loss: 994.8365 - metric/ndcg: 0.9379 - metric/mrr: 1.0000\n"
     ]
    },
    {
     "data": {
      "text/plain": [
       "<keras.callbacks.History at 0x7fba21b59a30>"
      ]
     },
     "execution_count": 13,
     "metadata": {},
     "output_type": "execute_result"
    }
   ],
   "source": [
    "model.fit(ds_train, epochs=3)"
   ]
  },
  {
   "cell_type": "markdown",
   "metadata": {
    "id": "V5uuSRXZoOKW"
   },
   "source": [
    "Generate predictions and evaluate."
   ]
  },
  {
   "cell_type": "code",
   "execution_count": 14,
   "metadata": {},
   "outputs": [],
   "source": [
    "# Get movie title candidate list.\n",
    "for movie_titles in movies.batch(2000):\n",
    "\tbreak"
   ]
  },
  {
   "cell_type": "code",
   "execution_count": 15,
   "metadata": {},
   "outputs": [
    {
     "data": {
      "text/plain": [
       "<tf.Tensor: shape=(1682,), dtype=string, numpy=\n",
       "array([b'You So Crazy (1994)', b'Love Is All There Is (1996)',\n",
       "       b'Fly Away Home (1996)', ..., b'Great White Hype, The (1996)',\n",
       "       b'Venice/Venice (1992)', b'Stalingrad (1993)'], dtype=object)>"
      ]
     },
     "execution_count": 15,
     "metadata": {},
     "output_type": "execute_result"
    }
   ],
   "source": [
    "movie_titles"
   ]
  },
  {
   "cell_type": "code",
   "execution_count": 16,
   "metadata": {},
   "outputs": [],
   "source": [
    "# Generate the input for user 42.\n",
    "inputs = {\n",
    "\t\"user_id\": tf.expand_dims(tf.repeat(\"42\", repeats = movie_titles.shape[0]), axis = 0),\n",
    "\t\"movie_title\": tf.expand_dims(movie_titles, axis = 0)\n",
    "}"
   ]
  },
  {
   "cell_type": "code",
   "execution_count": 17,
   "metadata": {
    "id": "6Hryvj3cPnvK"
   },
   "outputs": [
    {
     "name": "stdout",
     "output_type": "stream",
     "text": [
      "Top 5 recommendations for user 42: [b'Sound of Music, The (1965)' b'Titanic (1997)'\n",
      " b\"It's a Wonderful Life (1946)\" b'Air Force One (1997)'\n",
      " b'Jerry Maguire (1996)']\n"
     ]
    }
   ],
   "source": [
    "# Get movie recommendations for user 42.\n",
    "scores = model(inputs)\n",
    "titles = tfr.utils.sort_by_scores(scores, [tf.expand_dims(movie_titles, axis = 0)])[0]\n",
    "print(f\"Top 5 recommendations for user 42: {titles[0, :5]}\")"
   ]
  },
  {
   "cell_type": "code",
   "execution_count": null,
   "metadata": {},
   "outputs": [],
   "source": []
  }
 ],
 "metadata": {
  "colab": {
   "collapsed_sections": [],
   "name": "quickstart.ipynb",
   "private_outputs": true,
   "provenance": [],
   "toc_visible": true
  },
  "kernelspec": {
   "display_name": "Python 3 (ipykernel)",
   "language": "python",
   "name": "python3"
  },
  "language_info": {
   "codemirror_mode": {
    "name": "ipython",
    "version": 3
   },
   "file_extension": ".py",
   "mimetype": "text/x-python",
   "name": "python",
   "nbconvert_exporter": "python",
   "pygments_lexer": "ipython3",
   "version": "3.8.0"
  }
 },
 "nbformat": 4,
 "nbformat_minor": 1
}
